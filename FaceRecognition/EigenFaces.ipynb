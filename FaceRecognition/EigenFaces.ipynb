{
 "cells": [
  {
   "cell_type": "code",
   "execution_count": 1,
   "metadata": {},
   "outputs": [],
   "source": [
    "import numpy as np\n",
    "from PIL import Image\n",
    "import os\n",
    "from numpy import linalg as LA\n",
    "from matplotlib import pyplot as plt"
   ]
  },
  {
   "cell_type": "markdown",
   "metadata": {},
   "source": [
    "##### Data"
   ]
  },
  {
   "cell_type": "code",
   "execution_count": 43,
   "metadata": {},
   "outputs": [],
   "source": [
    "data_path = \"ORL-DATABASE\"\n",
    "train_images, test_images = [], []\n",
    "for file in os.listdir(data_path):\n",
    "    if not os.path.isdir(os.path.join(data_path, file)):\n",
    "        continue\n",
    "    subject_dir = os.path.join(data_path, file)\n",
    "    for idx, face_dir in enumerate(os.listdir(subject_dir)):\n",
    "        image_dir = os.path.join(subject_dir, face_dir)\n",
    "        if idx < 5:\n",
    "            train_images.append(plt.imread(image_dir))\n",
    "        else:\n",
    "            test_images.append(plt.imread(image_dir))\n",
    "            \n",
    "train_images = np.array(train_images, dtype='float64')\n",
    "test_images = np.array(test_images, dtype='float64')\n",
    "\n",
    "train_images_flatten = train_images.reshape(train_images.shape[0], -1)\n",
    "test_images_flatten = test_images.reshape(test_images.shape[0], -1)\n",
    "\n",
    "image_shape = train_images.shape[1:]"
   ]
  },
  {
   "cell_type": "markdown",
   "metadata": {},
   "source": [
    "#### Average Face"
   ]
  },
  {
   "cell_type": "code",
   "execution_count": 44,
   "metadata": {},
   "outputs": [],
   "source": [
    "def calculate_average_face(verbose=False):\n",
    "    average_face = np.mean(train_images_flatten, axis=0)\n",
    "    if verbose:\n",
    "        plt.figure()\n",
    "        plt.suptitle('Average Face')\n",
    "        plt.imshow(average_face.reshape(*image_shape), cmap=\"gray\")\n",
    "        plt.show()\n",
    "    return average_face"
   ]
  },
  {
   "cell_type": "markdown",
   "metadata": {},
   "source": [
    "#### Normalizing Images & Training"
   ]
  },
  {
   "cell_type": "code",
   "execution_count": 17,
   "metadata": {},
   "outputs": [],
   "source": [
    "def normalize_images(average_face, verbose=False):\n",
    "    difference_faces = train_images_flatten - average_face\n",
    "    if verbose:\n",
    "        nums = np.random.randint(0,difference_faces.shape[0],5)\n",
    "        plt.figure(figsize=(10,4))\n",
    "        plt.suptitle('Normalized Faces')\n",
    "        for i, elem in enumerate(difference_faces[nums]):\n",
    "            plt.subplot(1,5,i+1)\n",
    "            plt.imshow(elem.reshape(*image_shape), cmap=\"gray\")\n",
    "        plt.show()\n",
    "    return difference_faces\n",
    "\n",
    "def calculate_covariance(difference_faces):\n",
    "    A = difference_faces.T\n",
    "    L = np.dot(A.T, A)\n",
    "    return L"
   ]
  },
  {
   "cell_type": "markdown",
   "metadata": {},
   "source": [
    "##### Eigen Operations"
   ]
  },
  {
   "cell_type": "code",
   "execution_count": 79,
   "metadata": {},
   "outputs": [],
   "source": [
    "def calculate_eigenvectors(L, N):\n",
    "    eig_vals, v = LA.eig(L)\n",
    "    v /= LA.norm(v, axis=0)\n",
    "\n",
    "    p = np.argsort(eig_vals)[::-1]\n",
    "    variance = np.sum(eig_vals[p][:N]) / np.sum(eig_vals)\n",
    "    v, eig_vals = v[p][:N], eig_vals[p][:N]\n",
    "    \n",
    "    return v, eig_vals, variance"
   ]
  },
  {
   "cell_type": "markdown",
   "metadata": {},
   "source": [
    "##### Eigen Faces"
   ]
  },
  {
   "cell_type": "code",
   "execution_count": 25,
   "metadata": {},
   "outputs": [],
   "source": [
    "def generate_eigenfaces(v, difference_faces, verbose=False):\n",
    "    if v.shape[0] < 20:\n",
    "        verbose = False\n",
    "    A = difference_faces.T\n",
    "    eigen_faces = []\n",
    "    if verbose:\n",
    "        plt.figure(figsize=(10,10))\n",
    "        plt.suptitle(\"Eigen Faces\")\n",
    "    for i, v_ in enumerate(v):\n",
    "        uu = np.dot(A, v_)\n",
    "        uu = uu / np.linalg.norm(uu)\n",
    "        eigen_faces.append(uu)\n",
    "        if verbose and i < 20:\n",
    "            plt.subplot(4,5,i+1)\n",
    "            plt.imshow(uu.reshape(*image_shape), cmap=\"gray\")\n",
    "    if verbose:\n",
    "        plt.show()\n",
    "    eigen_faces = np.array(eigen_faces).T\n",
    "    return eigen_faces\n",
    "\n",
    "def calculate_all_training_coeffs(average_face, eigen_faces):\n",
    "    all_W = np.matmul(train_images_flatten - average_face, eigen_faces)\n",
    "    return all_W"
   ]
  },
  {
   "cell_type": "markdown",
   "metadata": {},
   "source": [
    "##### Reconstruct"
   ]
  },
  {
   "cell_type": "code",
   "execution_count": 26,
   "metadata": {},
   "outputs": [],
   "source": [
    "def reconstruct(eigen_faces, average_face, all_W, recon_index=134, verbose=False):\n",
    "    w = all_W[recon_index]\n",
    "    reconst_im = (np.sum(eigen_faces * w, axis=1) + average_face).reshape(*image_shape)\n",
    "    if verbose:\n",
    "        plt.figure()\n",
    "        plt.suptitle(\"Reconstructed Image / Original Image\")\n",
    "        plt.subplot(1,2,1)\n",
    "        plt.imshow(reconst_im, cmap=\"gray\")\n",
    "        plt.subplot(1,2,2)\n",
    "        plt.imshow(train_images[recon_index], cmap=\"gray\")\n",
    "        plt.show()\n",
    "    return reconst_im"
   ]
  },
  {
   "cell_type": "markdown",
   "metadata": {},
   "source": [
    "##### Classification"
   ]
  },
  {
   "cell_type": "code",
   "execution_count": 27,
   "metadata": {},
   "outputs": [],
   "source": [
    "def classify(eigen_faces, average_face, all_W, classification_index=32):\n",
    "    w_unknown = (test_images_flatten[classification_index] - average_face) @ eigen_faces\n",
    "    same_index = np.argmin(np.linalg.norm((all_W - w_unknown), ord=2, axis=1))\n",
    "    return same_index"
   ]
  },
  {
   "cell_type": "markdown",
   "metadata": {},
   "source": [
    "##### Main Functions"
   ]
  },
  {
   "cell_type": "code",
   "execution_count": 76,
   "metadata": {},
   "outputs": [],
   "source": [
    "def example_main():\n",
    "    average_face = calculate_average_face(verbose=True)\n",
    "    difference_faces = normalize_images(average_face, verbose=True)\n",
    "    L = calculate_covariance(difference_faces)\n",
    "    v, eig_vals, variance = calculate_eigenvectors(L, N=40)\n",
    "    eigen_faces = generate_eigenfaces(v, difference_faces, verbose=True)\n",
    "    all_W = calculate_all_training_coeffs(average_face, eigen_faces)\n",
    "    reconst_im = reconstruct(eigen_faces, average_face, all_W, recon_index=134, verbose=True)\n",
    "    same_index = classify(eigen_faces, average_face, all_W, classification_index=32)"
   ]
  },
  {
   "cell_type": "code",
   "execution_count": 82,
   "metadata": {},
   "outputs": [],
   "source": [
    "def accuracy_for_different_dims():\n",
    "    average_face = calculate_average_face(verbose=False)\n",
    "    difference_faces = normalize_images(average_face, verbose=False)\n",
    "    L = calculate_covariance(difference_faces)\n",
    "    correct_nums, variances = [], []\n",
    "    dims = np.linspace(5,200,40, dtype=int)\n",
    "    for dim in dims:\n",
    "        correct_num = 0\n",
    "        v, eig_vals, variance = calculate_eigenvectors(L, N=dim)\n",
    "        eigen_faces = generate_eigenfaces(v, difference_faces, verbose=False)\n",
    "        all_W = calculate_all_training_coeffs(average_face, eigen_faces)\n",
    "        for index, test_elem in enumerate(test_images):\n",
    "            same_index = classify(eigen_faces, average_face, all_W, classification_index=index)\n",
    "            if index // 5 == same_index // 5:\n",
    "                correct_num += 1\n",
    "        correct_nums.append(correct_num / 200)\n",
    "        variances.append(variance)\n",
    "    return np.array(correct_nums), dims, variances\n"
   ]
  },
  {
   "cell_type": "code",
   "execution_count": 84,
   "metadata": {},
   "outputs": [],
   "source": [
    "correct_nums, dims, variances = accuracy_for_different_dims()"
   ]
  },
  {
   "cell_type": "code",
   "execution_count": 85,
   "metadata": {},
   "outputs": [
    {
     "data": {
      "image/png": "[encoded data removed]",
      "text/plain": [
       "<Figure size 504x360 with 1 Axes>"
      ]
     },
     "metadata": {
      "needs_background": "light"
     },
     "output_type": "display_data"
    }
   ],
   "source": [
    "plt.figure(figsize=(7,5))\n",
    "plt.xlabel(\"Dimentionality\")\n",
    "plt.ylabel(\"Accuracy\")\n",
    "plt.plot(dims, correct_nums, 'ob--')\n",
    "plt.plot(dims, variances, 'og--')\n",
    "plt.show()"
   ]
  },
  {
   "cell_type": "code",
   "execution_count": null,
   "metadata": {},
   "outputs": [],
   "source": []
  }
 ],
 "metadata": {
  "kernelspec": {
   "display_name": "Python 3.6.10 64-bit ('adversarial': conda)",
   "language": "python",
   "name": "python361064bitadversarialconda19609fb939ab453fb167de754a7edfca"
  },
  "language_info": {
   "codemirror_mode": {
    "name": "ipython",
    "version": 3
   },
   "file_extension": ".py",
   "mimetype": "text/x-python",
   "name": "python",
   "nbconvert_exporter": "python",
   "pygments_lexer": "ipython3",
   "version": "3.6.10"
  }
 },
 "nbformat": 4,
 "nbformat_minor": 4
}
