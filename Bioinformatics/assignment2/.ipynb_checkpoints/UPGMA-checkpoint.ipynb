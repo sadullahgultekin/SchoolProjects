{
 "cells": [
  {
   "cell_type": "code",
   "execution_count": 1,
   "metadata": {},
   "outputs": [],
   "source": [
    "import numpy as np"
   ]
  },
  {
   "cell_type": "code",
   "execution_count": 2,
   "metadata": {},
   "outputs": [
    {
     "data": {
      "text/plain": [
       "array(['A', 'B', 'C', 'D', 'E', 'F', 'G'], dtype='<U1')"
      ]
     },
     "execution_count": 2,
     "metadata": {},
     "output_type": "execute_result"
    }
   ],
   "source": [
    "with open(\"labels_2.txt\", \"r\") as fp:\n",
    "    labels = np.array([elem for idx, elem in enumerate(fp.read().split('\"')) if idx % 2 == 1])\n",
    "labels"
   ]
  },
  {
   "cell_type": "code",
   "execution_count": 3,
   "metadata": {},
   "outputs": [
    {
     "name": "stdout",
     "output_type": "stream",
     "text": [
      "[0.]\n",
      "[19.  0.]\n",
      "[27. 31.  0.]\n",
      "[ 8. 18. 26.  0.]\n",
      "[33. 36. 41. 31.  0.]\n",
      "[18.  1. 32. 17. 35.  0.]\n",
      "[13. 13. 29. 14. 28. 12.  0.]\n"
     ]
    },
    {
     "data": {
      "text/plain": [
       "array([[ 0.,  0.,  0.,  0.,  0.,  0.,  0.],\n",
       "       [19.,  0.,  0.,  0.,  0.,  0.,  0.],\n",
       "       [27., 31.,  0.,  0.,  0.,  0.,  0.],\n",
       "       [ 8., 18., 26.,  0.,  0.,  0.,  0.],\n",
       "       [33., 36., 41., 31.,  0.,  0.,  0.],\n",
       "       [18.,  1., 32., 17., 35.,  0.,  0.],\n",
       "       [13., 13., 29., 14., 28., 12.,  0.]])"
      ]
     },
     "execution_count": 3,
     "metadata": {},
     "output_type": "execute_result"
    }
   ],
   "source": [
    "with open(\"distance_matrix_2.txt\", \"r\") as fp:\n",
    "    distance_matrix = np.zeros((labels.shape[0], labels.shape[0]))\n",
    "    for idx, line in enumerate(fp.read().splitlines()):\n",
    "        line_data = np.array(line.replace(' ', '')[1:-1].split(','), dtype=float)\n",
    "        print(line_data)\n",
    "        distance_matrix[idx] = np.pad(line_data, (0, labels.shape[0]- line_data.shape[0]), 'constant')\n",
    "distance_matrix"
   ]
  },
  {
   "cell_type": "code",
   "execution_count": 4,
   "metadata": {},
   "outputs": [],
   "source": [
    "def find_min_elem(distance_matrix):\n",
    "    temp_distance_matrix = distance_matrix.copy()\n",
    "    temp_distance_matrix[temp_distance_matrix == 0] = np.inf\n",
    "    minvals = np.unravel_index(np.argmin(temp_distance_matrix, axis=None), temp_distance_matrix.shape)\n",
    "    return minvals\n",
    "\n",
    "def construct_new_matrix(distance_matrix, mean_of_union, min_position):\n",
    "    \n",
    "    distance_matrix = np.delete(distance_matrix, min_position[1], 0)\n",
    "    distance_matrix = np.delete(distance_matrix, min_position[1], 1)\n",
    "    \n",
    "    distance_matrix[:,min_position[0]] = mean_of_union\n",
    "    distance_matrix[min_position[0],:] = mean_of_union\n",
    "    upper_triu =np.triu_indices(distance_matrix.shape[0])\n",
    "    distance_matrix[upper_triu] = 0\n",
    "\n",
    "    return distance_matrix\n",
    "\n",
    "def join_pairs(distance_matrix, labels, min_position):\n",
    "    print(\"original_matrix\")\n",
    "    print(distance_matrix)\n",
    "    print(\"selected\")\n",
    "    print(min_position)\n",
    "    min_elem, max_elem = min_position[1], min_position[0]\n",
    "    new_distance_matrix = np.zeros((distance_matrix.shape[0]-1, distance_matrix.shape[0]-1), dtype=float)\n",
    "    sum_of_first = np.sum([distance_matrix[min_elem,:], distance_matrix[:,min_elem]], axis=0)\n",
    "    sum_of_second = np.sum([distance_matrix[:,max_elem], distance_matrix[max_elem,:]], axis=0)\n",
    "    mean_of_union = np.mean([sum_of_first, sum_of_second], axis=0)\n",
    "    mean_of_union[min_elem] = 0\n",
    "    mean_of_union = np.delete(mean_of_union, max_elem, 0)\n",
    "    print(\"mean\")\n",
    "    print(mean_of_union)\n",
    "\n",
    "    print(\"labels\")\n",
    "    print(labels)\n",
    "    labels = np.concatenate((labels[0:min_elem], ['(' + labels[min_elem] + ', ' + labels[max_elem] + ')'], \n",
    "                             labels[min_elem+1:max_elem], labels[max_elem+1:]), axis=0)\n",
    "    print(labels)\n",
    "    \n",
    "    distance_matrix = construct_new_matrix(distance_matrix, mean_of_union, min_position)\n",
    "    print(\"matrix\")\n",
    "    print(distance_matrix)\n",
    "    \n",
    "    return distance_matrix, labels"
   ]
  },
  {
   "cell_type": "code",
   "execution_count": 5,
   "metadata": {},
   "outputs": [
    {
     "name": "stdout",
     "output_type": "stream",
     "text": [
      "original_matrix\n",
      "[[ 0.  0.  0.  0.  0.  0.  0.]\n",
      " [19.  0.  0.  0.  0.  0.  0.]\n",
      " [27. 31.  0.  0.  0.  0.  0.]\n",
      " [ 8. 18. 26.  0.  0.  0.  0.]\n",
      " [33. 36. 41. 31.  0.  0.  0.]\n",
      " [18.  1. 32. 17. 35.  0.  0.]\n",
      " [13. 13. 29. 14. 28. 12.  0.]]\n",
      "mean\n",
      "[18.5  0.  31.5 17.5 35.5 12.5]\n",
      "labels\n",
      "['A' 'B' 'C' 'D' 'E' 'F' 'G']\n",
      "['A' '(B, F)' 'C' 'D' 'E' 'G']\n",
      "matrix\n",
      "[[ 0.   0.   0.   0.   0.   0. ]\n",
      " [27.   0.   0.   0.   0.   0. ]\n",
      " [ 8.  26.   0.   0.   0.   0. ]\n",
      " [33.  41.  31.   0.   0.   0. ]\n",
      " [18.  32.  17.  35.   0.   0. ]\n",
      " [18.5  0.  31.5 17.5 35.5  0. ]]\n",
      "\n",
      "original_matrix\n",
      "[[ 0.   0.   0.   0.   0.   0. ]\n",
      " [27.   0.   0.   0.   0.   0. ]\n",
      " [ 8.  26.   0.   0.   0.   0. ]\n",
      " [33.  41.  31.   0.   0.   0. ]\n",
      " [18.  32.  17.  35.   0.   0. ]\n",
      " [18.5  0.  31.5 17.5 35.5  0. ]]\n",
      "mean\n",
      "[ 0.  26.5 32.  17.5 25. ]\n",
      "labels\n",
      "['A' '(B, F)' 'C' 'D' 'E' 'G']\n",
      "['(A, C)' '(B, F)' 'D' 'E' 'G']\n",
      "matrix\n",
      "[[ 0.   0.   0.   0.   0. ]\n",
      " [26.   0.   0.   0.   0. ]\n",
      " [ 0.  26.5  0.   0.   0. ]\n",
      " [32.  17.  17.5  0.   0. ]\n",
      " [ 0.  31.5 25.  35.5  0. ]]\n",
      "\n",
      "original_matrix\n",
      "[[ 0.   0.   0.   0.   0. ]\n",
      " [26.   0.   0.   0.   0. ]\n",
      " [ 0.  26.5  0.   0.   0. ]\n",
      " [32.  17.  17.5  0.   0. ]\n",
      " [ 0.  31.5 25.  35.5  0. ]]\n",
      "mean\n",
      "[29.   0.  22.  33.5]\n",
      "labels\n",
      "['(A, C)' '(B, F)' 'D' 'E' 'G']\n",
      "['(A, C)' '((B, F), E)' 'D' 'G']\n",
      "matrix\n",
      "[[ 0.   0.   0.   0. ]\n",
      " [ 0.   0.   0.   0. ]\n",
      " [32.  17.5  0.   0. ]\n",
      " [29.   0.  22.   0. ]]\n",
      "\n",
      "original_matrix\n",
      "[[ 0.   0.   0.   0. ]\n",
      " [ 0.   0.   0.   0. ]\n",
      " [32.  17.5  0.   0. ]\n",
      " [29.   0.  22.   0. ]]\n",
      "mean\n",
      "[16.  0. 11.]\n",
      "labels\n",
      "['(A, C)' '((B, F), E)' 'D' 'G']\n",
      "['(A, C)' '(((B, F), E), D)' 'G']\n",
      "matrix\n",
      "[[ 0.  0.  0.]\n",
      " [32.  0.  0.]\n",
      " [16.  0.  0.]]\n",
      "\n",
      "original_matrix\n",
      "[[ 0.  0.  0.]\n",
      " [32.  0.  0.]\n",
      " [16.  0.  0.]]\n",
      "mean\n",
      "[ 0. 16.]\n",
      "labels\n",
      "['(A, C)' '(((B, F), E), D)' 'G']\n",
      "['((A, C), G)' '(((B, F), E), D)']\n"
     ]
    },
    {
     "ename": "IndexError",
     "evalue": "index 2 is out of bounds for axis 1 with size 2",
     "output_type": "error",
     "traceback": [
      "\u001b[0;31m---------------------------------------------------------------------------\u001b[0m",
      "\u001b[0;31mIndexError\u001b[0m                                Traceback (most recent call last)",
      "\u001b[0;32m<ipython-input-5-41e578302103>\u001b[0m in \u001b[0;36m<module>\u001b[0;34m\u001b[0m\n\u001b[1;32m      1\u001b[0m \u001b[0;32mwhile\u001b[0m\u001b[0;34m(\u001b[0m\u001b[0mdistance_matrix\u001b[0m\u001b[0;34m.\u001b[0m\u001b[0mshape\u001b[0m\u001b[0;34m[\u001b[0m\u001b[0;36m0\u001b[0m\u001b[0;34m]\u001b[0m \u001b[0;34m>\u001b[0m \u001b[0;36m1\u001b[0m\u001b[0;34m)\u001b[0m\u001b[0;34m:\u001b[0m\u001b[0;34m\u001b[0m\u001b[0m\n\u001b[1;32m      2\u001b[0m     \u001b[0mmin_position\u001b[0m \u001b[0;34m=\u001b[0m \u001b[0mfind_min_elem\u001b[0m\u001b[0;34m(\u001b[0m\u001b[0mdistance_matrix\u001b[0m\u001b[0;34m)\u001b[0m\u001b[0;34m\u001b[0m\u001b[0m\n\u001b[0;32m----> 3\u001b[0;31m     \u001b[0mdistance_matrix\u001b[0m\u001b[0;34m,\u001b[0m \u001b[0mlabels\u001b[0m \u001b[0;34m=\u001b[0m \u001b[0mjoin_pairs\u001b[0m\u001b[0;34m(\u001b[0m\u001b[0mdistance_matrix\u001b[0m\u001b[0;34m,\u001b[0m \u001b[0mlabels\u001b[0m\u001b[0;34m,\u001b[0m \u001b[0mmin_position\u001b[0m\u001b[0;34m)\u001b[0m\u001b[0;34m\u001b[0m\u001b[0m\n\u001b[0m\u001b[1;32m      4\u001b[0m     \u001b[0mprint\u001b[0m\u001b[0;34m(\u001b[0m\u001b[0;34m)\u001b[0m\u001b[0;34m\u001b[0m\u001b[0m\n\u001b[1;32m      5\u001b[0m     \u001b[0;31m# print\u001b[0m\u001b[0;34m\u001b[0m\u001b[0;34m\u001b[0m\u001b[0m\n",
      "\u001b[0;32m<ipython-input-4-fa7be224714f>\u001b[0m in \u001b[0;36mjoin_pairs\u001b[0;34m(distance_matrix, labels, min_position)\u001b[0m\n\u001b[1;32m     36\u001b[0m     \u001b[0mprint\u001b[0m\u001b[0;34m(\u001b[0m\u001b[0mlabels\u001b[0m\u001b[0;34m)\u001b[0m\u001b[0;34m\u001b[0m\u001b[0m\n\u001b[1;32m     37\u001b[0m \u001b[0;34m\u001b[0m\u001b[0m\n\u001b[0;32m---> 38\u001b[0;31m     \u001b[0mdistance_matrix\u001b[0m \u001b[0;34m=\u001b[0m \u001b[0mconstruct_new_matrix\u001b[0m\u001b[0;34m(\u001b[0m\u001b[0mdistance_matrix\u001b[0m\u001b[0;34m,\u001b[0m \u001b[0mmean_of_union\u001b[0m\u001b[0;34m,\u001b[0m \u001b[0mmin_position\u001b[0m\u001b[0;34m)\u001b[0m\u001b[0;34m\u001b[0m\u001b[0m\n\u001b[0m\u001b[1;32m     39\u001b[0m     \u001b[0mprint\u001b[0m\u001b[0;34m(\u001b[0m\u001b[0;34m\"matrix\"\u001b[0m\u001b[0;34m)\u001b[0m\u001b[0;34m\u001b[0m\u001b[0m\n\u001b[1;32m     40\u001b[0m     \u001b[0mprint\u001b[0m\u001b[0;34m(\u001b[0m\u001b[0mdistance_matrix\u001b[0m\u001b[0;34m)\u001b[0m\u001b[0;34m\u001b[0m\u001b[0m\n",
      "\u001b[0;32m<ipython-input-4-fa7be224714f>\u001b[0m in \u001b[0;36mconstruct_new_matrix\u001b[0;34m(distance_matrix, mean_of_union, min_position)\u001b[0m\n\u001b[1;32m     10\u001b[0m     \u001b[0mdistance_matrix\u001b[0m \u001b[0;34m=\u001b[0m \u001b[0mnp\u001b[0m\u001b[0;34m.\u001b[0m\u001b[0mdelete\u001b[0m\u001b[0;34m(\u001b[0m\u001b[0mdistance_matrix\u001b[0m\u001b[0;34m,\u001b[0m \u001b[0mmin_position\u001b[0m\u001b[0;34m[\u001b[0m\u001b[0;36m1\u001b[0m\u001b[0;34m]\u001b[0m\u001b[0;34m,\u001b[0m \u001b[0;36m1\u001b[0m\u001b[0;34m)\u001b[0m\u001b[0;34m\u001b[0m\u001b[0m\n\u001b[1;32m     11\u001b[0m \u001b[0;34m\u001b[0m\u001b[0m\n\u001b[0;32m---> 12\u001b[0;31m     \u001b[0mdistance_matrix\u001b[0m\u001b[0;34m[\u001b[0m\u001b[0;34m:\u001b[0m\u001b[0;34m,\u001b[0m\u001b[0mmin_position\u001b[0m\u001b[0;34m[\u001b[0m\u001b[0;36m0\u001b[0m\u001b[0;34m]\u001b[0m\u001b[0;34m]\u001b[0m \u001b[0;34m=\u001b[0m \u001b[0mmean_of_union\u001b[0m\u001b[0;34m\u001b[0m\u001b[0m\n\u001b[0m\u001b[1;32m     13\u001b[0m     \u001b[0mdistance_matrix\u001b[0m\u001b[0;34m[\u001b[0m\u001b[0mmin_position\u001b[0m\u001b[0;34m[\u001b[0m\u001b[0;36m0\u001b[0m\u001b[0;34m]\u001b[0m\u001b[0;34m,\u001b[0m\u001b[0;34m:\u001b[0m\u001b[0;34m]\u001b[0m \u001b[0;34m=\u001b[0m \u001b[0mmean_of_union\u001b[0m\u001b[0;34m\u001b[0m\u001b[0m\n\u001b[1;32m     14\u001b[0m     \u001b[0mupper_triu\u001b[0m \u001b[0;34m=\u001b[0m\u001b[0mnp\u001b[0m\u001b[0;34m.\u001b[0m\u001b[0mtriu_indices\u001b[0m\u001b[0;34m(\u001b[0m\u001b[0mdistance_matrix\u001b[0m\u001b[0;34m.\u001b[0m\u001b[0mshape\u001b[0m\u001b[0;34m[\u001b[0m\u001b[0;36m0\u001b[0m\u001b[0;34m]\u001b[0m\u001b[0;34m)\u001b[0m\u001b[0;34m\u001b[0m\u001b[0m\n",
      "\u001b[0;31mIndexError\u001b[0m: index 2 is out of bounds for axis 1 with size 2"
     ]
    }
   ],
   "source": [
    "while(distance_matrix.shape[0] > 1):\n",
    "    min_position = find_min_elem(distance_matrix)\n",
    "    distance_matrix, labels = join_pairs(distance_matrix, labels, min_position)\n",
    "    print()\n",
    "    # print"
   ]
  },
  {
   "cell_type": "code",
   "execution_count": null,
   "metadata": {},
   "outputs": [],
   "source": []
  }
 ],
 "metadata": {
  "kernelspec": {
   "display_name": "Python 3",
   "language": "python",
   "name": "python3"
  },
  "language_info": {
   "codemirror_mode": {
    "name": "ipython",
    "version": 3
   },
   "file_extension": ".py",
   "mimetype": "text/x-python",
   "name": "python",
   "nbconvert_exporter": "python",
   "pygments_lexer": "ipython3",
   "version": "3.6.2"
  }
 },
 "nbformat": 4,
 "nbformat_minor": 2
}
