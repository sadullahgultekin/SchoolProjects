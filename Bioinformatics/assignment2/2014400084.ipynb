{
 "cells": [
  {
   "cell_type": "code",
   "execution_count": 56,
   "metadata": {},
   "outputs": [],
   "source": [
    "import os\n",
    "import sys\n",
    "import copy\n",
    "import numpy as np"
   ]
  },
  {
   "cell_type": "code",
   "execution_count": 85,
   "metadata": {},
   "outputs": [],
   "source": [
    "# The file paths. You can change the directory if you want.\n",
    "distance_matrix_path = 'distance_matrix2.txt'\n",
    "labels_path = 'labels2.txt'"
   ]
  },
  {
   "cell_type": "code",
   "execution_count": 86,
   "metadata": {},
   "outputs": [],
   "source": [
    "def read_labels(labels_path=''):\n",
    "    # Read labels.txt to dictionary.\n",
    "    labels_list = []\n",
    "    with open(labels_path, 'r') as f_label:\n",
    "        labels = f_label.readline()[1:-2]\n",
    "        labels_list = [label.replace('\"', '') for label in labels.split(', ')]\n",
    "    return np.array(labels_list)\n",
    "\n",
    "def read_distance_matrix(distance_matrix_path=''):\n",
    "   # Read distance_matrix.txt to dictionary.\n",
    "    distance_matrix = np.zeros((len(labels_list), len(labels_list)))\n",
    "    with open(distance_matrix_path, 'r') as f_dist:\n",
    "        for i, line in enumerate(f_dist):\n",
    "            distances_i = np.array([int(dist) for dist in line[1:-2].split(', ')])\n",
    "            distances_i = np.hstack([distances_i, np.zeros(len(labels_list) - distances_i.shape[0])])\n",
    "            distance_matrix[i, :] = distances_i\n",
    "    return distance_matrix "
   ]
  },
  {
   "cell_type": "code",
   "execution_count": 87,
   "metadata": {},
   "outputs": [
    {
     "name": "stdout",
     "output_type": "stream",
     "text": [
      "['A' 'B' 'C' 'D' 'E' 'F' 'G']\n"
     ]
    },
    {
     "data": {
      "text/plain": [
       "array([[ 0.,  0.,  0.,  0.,  0.,  0.,  0.],\n",
       "       [19.,  0.,  0.,  0.,  0.,  0.,  0.],\n",
       "       [27., 31.,  0.,  0.,  0.,  0.,  0.],\n",
       "       [ 8., 18., 26.,  0.,  0.,  0.,  0.],\n",
       "       [33., 36., 41., 31.,  0.,  0.,  0.],\n",
       "       [18.,  1., 32., 17., 35.,  0.,  0.],\n",
       "       [13., 13., 29., 14., 28., 12.,  0.]])"
      ]
     },
     "execution_count": 87,
     "metadata": {},
     "output_type": "execute_result"
    }
   ],
   "source": [
    "labels = read_labels(labels_path=labels_path)\n",
    "distance_matrix = read_distance_matrix(distance_matrix_path=distance_matrix_path)\n",
    "print(labels)\n",
    "distance_matrix"
   ]
  },
  {
   "cell_type": "code",
   "execution_count": 94,
   "metadata": {},
   "outputs": [],
   "source": [
    "def find_pair_with_minimum_distance(distance_matrix):\n",
    "    upper_triu =  np.triu_indices(distance_matrix.shape[0])\n",
    "    distance_matrix_distorted = distance_matrix.copy()\n",
    "    distance_matrix_distorted[upper_triu] = np.inf\n",
    "    return np.unravel_index(np.argmin(distance_matrix_distorted, axis=None), distance_matrix_distorted.shape)\n",
    "\n",
    "def construct_new_distance_matrix(distance_cluster_array, distance_matrix, first_species, second_species):\n",
    "    distance_matrix = np.delete(distance_matrix, second_species, 0)\n",
    "    distance_matrix = np.delete(distance_matrix, second_species, 1)\n",
    "    distance_matrix[first_species, :] = distance_cluster_array\n",
    "    distance_matrix[:, first_species] = distance_cluster_array\n",
    "    upper_triu =  np.triu_indices(distance_matrix.shape[0])\n",
    "    distance_matrix[upper_triu] = 0\n",
    "    return distance_matrix\n",
    "\n",
    "def update_labels_of_clustered_species(first_cluster, second_cluster):\n",
    "    new_cluster_label = \"({},{})\".format(first_cluster, second_cluster)\n",
    "    print(new_cluster_label)\n",
    "    return new_cluster_label\n",
    "\n",
    "def update_distances_after_joining(selected_pair, distance_matrix, labels):\n",
    "    new_distance_matrix = np.zeros((distance_matrix.shape[0]-1, distance_matrix.shape[1]-1))\n",
    "    first_species, second_species = np.min(selected_pair), np.max(selected_pair)\n",
    "    \n",
    "    distance_of_new_cluster = np.mean([np.sum([distance_matrix[first_species, :], distance_matrix[:, first_species]], axis=0),\\\n",
    "                                      np.sum([distance_matrix[second_species, :], distance_matrix[:, second_species]], axis=0)], axis=0)\n",
    "    distance_cluster_array = np.concatenate([distance_of_new_cluster[0:first_species], [0], distance_of_new_cluster[first_species+1:second_species],\\\n",
    "                                             distance_of_new_cluster[second_species+1:]])\n",
    "    \n",
    "    new_cluster_label = update_labels_of_clustered_species(labels[first_species], labels[second_species])\n",
    "    \n",
    "    labels = np.concatenate([labels[0:first_species], [new_cluster_label], labels[first_species+1:second_species], labels[second_species+1:]])\n",
    "    \n",
    "    distance_matrix = construct_new_distance_matrix(distance_cluster_array, distance_matrix, first_species, second_species)\n",
    "    return distance_matrix, labels\n",
    "\n",
    "def start_upgma_algorithm(distance_matrix, labels):\n",
    "    while labels.shape[0] > 1:\n",
    "        selected_pair = find_pair_with_minimum_distance(distance_matrix)\n",
    "        print(\"selected_pair is \", selected_pair)\n",
    "        distance_matrix, labels = update_distances_after_joining(selected_pair, distance_matrix, labels)\n",
    "        print(\"New labels and distance matrix\")\n",
    "        print(labels)\n",
    "        print(distance_matrix)\n",
    "        print(\"------------------------------------------------------------\")"
   ]
  },
  {
   "cell_type": "code",
   "execution_count": 95,
   "metadata": {},
   "outputs": [
    {
     "name": "stdout",
     "output_type": "stream",
     "text": [
      "selected_pair is  (5, 1)\n",
      "(B,F)\n",
      "New labels and distance matrix\n",
      "['A' '(B,F)' 'C' 'D' 'E' 'G']\n",
      "[[ 0.   0.   0.   0.   0.   0. ]\n",
      " [18.5  0.   0.   0.   0.   0. ]\n",
      " [27.  31.5  0.   0.   0.   0. ]\n",
      " [ 8.  17.5 26.   0.   0.   0. ]\n",
      " [33.  35.5 41.  31.   0.   0. ]\n",
      " [13.  12.5 29.  14.  28.   0. ]]\n",
      "------------------------------------------------------------\n",
      "selected_pair is  (3, 0)\n",
      "(A,D)\n",
      "New labels and distance matrix\n",
      "['(A,D)' '(B,F)' 'C' 'E' 'G']\n",
      "[[ 0.   0.   0.   0.   0. ]\n",
      " [18.   0.   0.   0.   0. ]\n",
      " [26.5 31.5  0.   0.   0. ]\n",
      " [32.  35.5 41.   0.   0. ]\n",
      " [13.5 12.5 29.  28.   0. ]]\n",
      "------------------------------------------------------------\n",
      "selected_pair is  (4, 1)\n",
      "((B,F),G)\n",
      "New labels and distance matrix\n",
      "['(A,D)' '((B,F),G)' 'C' 'E']\n",
      "[[ 0.    0.    0.    0.  ]\n",
      " [15.75  0.    0.    0.  ]\n",
      " [26.5  30.25  0.    0.  ]\n",
      " [32.   31.75 41.    0.  ]]\n",
      "------------------------------------------------------------\n",
      "selected_pair is  (1, 0)\n",
      "((A,D),((B,F),G))\n",
      "New labels and distance matrix\n",
      "['((A,D),((B,F),G))' 'C' 'E']\n",
      "[[ 0.     0.     0.   ]\n",
      " [28.375  0.     0.   ]\n",
      " [31.875 41.     0.   ]]\n",
      "------------------------------------------------------------\n",
      "selected_pair is  (1, 0)\n",
      "(((A,D),((B,F),G)),C)\n",
      "New labels and distance matrix\n",
      "['(((A,D),((B,F),G)),C)' 'E']\n",
      "[[ 0.      0.    ]\n",
      " [36.4375  0.    ]]\n",
      "------------------------------------------------------------\n",
      "selected_pair is  (1, 0)\n",
      "((((A,D),((B,F),G)),C),E)\n",
      "New labels and distance matrix\n",
      "['((((A,D),((B,F),G)),C),E)']\n",
      "[[0.]]\n",
      "------------------------------------------------------------\n"
     ]
    }
   ],
   "source": [
    "start_upgma_algorithm(distance_matrix, labels)"
   ]
  },
  {
   "cell_type": "code",
   "execution_count": null,
   "metadata": {},
   "outputs": [],
   "source": []
  }
 ],
 "metadata": {
  "kernelspec": {
   "display_name": "Python 3",
   "language": "python",
   "name": "python3"
  },
  "language_info": {
   "codemirror_mode": {
    "name": "ipython",
    "version": 3
   },
   "file_extension": ".py",
   "mimetype": "text/x-python",
   "name": "python",
   "nbconvert_exporter": "python",
   "pygments_lexer": "ipython3",
   "version": "3.6.2"
  }
 },
 "nbformat": 4,
 "nbformat_minor": 2
}
