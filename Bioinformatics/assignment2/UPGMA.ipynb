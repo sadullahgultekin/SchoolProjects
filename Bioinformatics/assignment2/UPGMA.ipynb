{
 "cells": [
  {
   "cell_type": "code",
   "execution_count": 22,
   "metadata": {},
   "outputs": [],
   "source": [
    "import numpy as np"
   ]
  },
  {
   "cell_type": "code",
   "execution_count": 28,
   "metadata": {},
   "outputs": [
    {
     "name": "stdout",
     "output_type": "stream",
     "text": [
      "['Man' 'Monkey' 'Dog' 'Horse' 'Donkey' 'Pig' 'Rabbit']\n",
      "[[ 0.  0.  0.  0.  0.  0.  0.]\n",
      " [ 1.  0.  0.  0.  0.  0.  0.]\n",
      " [13. 12.  0.  0.  0.  0.  0.]\n",
      " [17. 16. 10.  0.  0.  0.  0.]\n",
      " [16. 15.  8.  1.  0.  0.  0.]\n",
      " [13. 12.  4.  5.  4.  0.  0.]\n",
      " [12. 11.  6. 11. 10.  6.  0.]]\n"
     ]
    }
   ],
   "source": [
    "with open(\"labels.txt\", \"r\") as fp:\n",
    "    labels = np.array([elem for idx, elem in enumerate(fp.read().split('\"')) if idx % 2 == 1])\n",
    "    \n",
    "with open(\"distance_matrix.txt\", \"r\") as fp:\n",
    "    distance_matrix = np.zeros((labels.shape[0], labels.shape[0]))\n",
    "    for idx, line in enumerate(fp.read().splitlines()):\n",
    "        line_data = np.array(line.replace(' ', '')[1:-1].split(','), dtype=float)\n",
    "        distance_matrix[idx] = np.pad(line_data, (0, labels.shape[0]- line_data.shape[0]), 'constant')\n",
    "        \n",
    "print(labels)\n",
    "print(distance_matrix)"
   ]
  },
  {
   "cell_type": "code",
   "execution_count": 29,
   "metadata": {},
   "outputs": [
    {
     "name": "stdout",
     "output_type": "stream",
     "text": [
      "(Man, Monkey)\n",
      "[[ 0.   0.   0.   0.   0.   0. ]\n",
      " [12.5  0.   0.   0.   0.   0. ]\n",
      " [16.5 10.   0.   0.   0.   0. ]\n",
      " [15.5  8.   1.   0.   0.   0. ]\n",
      " [12.5  4.   5.   4.   0.   0. ]\n",
      " [11.5  6.  11.  10.   6.   0. ]]\n",
      "(Horse, Donkey)\n",
      "[[ 0.   0.   0.   0.   0. ]\n",
      " [12.5  0.   0.   0.   0. ]\n",
      " [16.   9.   0.   0.   0. ]\n",
      " [12.5  4.   4.5  0.   0. ]\n",
      " [11.5  6.  10.5  6.   0. ]]\n",
      "(Dog, Pig)\n",
      "[[ 0.    0.    0.    0.  ]\n",
      " [12.5   0.    0.    0.  ]\n",
      " [16.    6.75  0.    0.  ]\n",
      " [11.5   6.   10.5   0.  ]]\n",
      "((Dog, Pig), Rabbit)\n",
      "[[ 0.     0.     0.   ]\n",
      " [12.     0.     0.   ]\n",
      " [16.     8.625  0.   ]]\n",
      "(((Dog, Pig), Rabbit), (Horse, Donkey))\n",
      "[[ 0.  0.]\n",
      " [14.  0.]]\n",
      "((Man, Monkey), (((Dog, Pig), Rabbit), (Horse, Donkey)))\n",
      "[[0.]]\n"
     ]
    }
   ],
   "source": [
    "while(distance_matrix.shape[0] > 1):\n",
    "    # find min\n",
    "    temp_distance_matrix = distance_matrix.copy()\n",
    "    temp_distance_matrix[temp_distance_matrix == 0] = np.inf\n",
    "    min_position = np.unravel_index(np.argmin(temp_distance_matrix, axis=None), temp_distance_matrix.shape)\n",
    "    \n",
    "    # join\n",
    "    new_distance_matrix = np.zeros((distance_matrix.shape[0]-1, distance_matrix.shape[0]-1), dtype=float)\n",
    "    sum_of_first = np.sum([distance_matrix[min_position[1],:], distance_matrix[:,min_position[1]]], axis=0)\n",
    "    sum_of_second = np.sum([distance_matrix[:,min_position[0]], distance_matrix[min_position[0],:]], axis=0)\n",
    "    mean_of_union = np.mean([sum_of_first, sum_of_second], axis=0)\n",
    "    mean_of_union[min_position[1]] = 0.0\n",
    "    mean_of_union = np.delete(mean_of_union, min_position[0], 0)\n",
    "    \n",
    "    print('(' + labels[min_position[1]] + ', ' + labels[min_position[0]] + ')')\n",
    "    \n",
    "    labels = np.concatenate((labels[0:min_position[1]], ['(' + labels[min_position[1]] + ', ' + labels[min_position[0]] + ')'], \n",
    "                             labels[min_position[1]+1:min_position[0]], labels[min_position[0]+1:]), axis=0)\n",
    "    \n",
    "    distance_matrix = np.delete(distance_matrix, min_position[0], 0)\n",
    "    distance_matrix = np.delete(distance_matrix, min_position[0], 1)\n",
    "    \n",
    "    distance_matrix[:,min_position[1]] = mean_of_union\n",
    "    distance_matrix[min_position[1],:] = mean_of_union\n",
    "    distance_matrix[np.triu_indices(distance_matrix.shape[1])] = 0"
   ]
  },
  {
   "cell_type": "code",
   "execution_count": null,
   "metadata": {},
   "outputs": [],
   "source": []
  }
 ],
 "metadata": {
  "kernelspec": {
   "display_name": "Python 3",
   "language": "python",
   "name": "python3"
  },
  "language_info": {
   "codemirror_mode": {
    "name": "ipython",
    "version": 3
   },
   "file_extension": ".py",
   "mimetype": "text/x-python",
   "name": "python",
   "nbconvert_exporter": "python",
   "pygments_lexer": "ipython3",
   "version": "3.6.2"
  }
 },
 "nbformat": 4,
 "nbformat_minor": 2
}
