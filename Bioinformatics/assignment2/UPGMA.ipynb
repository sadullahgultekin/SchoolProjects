{
 "cells": [
  {
   "cell_type": "code",
   "execution_count": 1,
   "metadata": {},
   "outputs": [],
   "source": [
    "import numpy as np"
   ]
  },
  {
   "cell_type": "code",
   "execution_count": 2,
   "metadata": {},
   "outputs": [
    {
     "name": "stdout",
     "output_type": "stream",
     "text": [
      "['Man' 'Monkey' 'Dog' 'Horse' 'Donkey' 'Pig' 'Rabbit']\n",
      "[[ 0.  0.  0.  0.  0.  0.  0.]\n",
      " [ 1.  0.  0.  0.  0.  0.  0.]\n",
      " [13. 12.  0.  0.  0.  0.  0.]\n",
      " [17. 16. 10.  0.  0.  0.  0.]\n",
      " [16. 15.  8.  1.  0.  0.  0.]\n",
      " [13. 12.  4.  5.  4.  0.  0.]\n",
      " [12. 11.  6. 11. 10.  6.  0.]]\n"
     ]
    }
   ],
   "source": [
    "# Read labels to an array\n",
    "with open(\"labels.txt\", \"r\") as fp:\n",
    "    labels = np.array([elem for idx, elem in enumerate(fp.read().split('\"')) if idx % 2 == 1])\n",
    "    \n",
    "# Read distance matrix to two dimentional array\n",
    "with open(\"distance_matrix.txt\", \"r\") as fp:\n",
    "    distance_matrix = np.zeros((labels.shape[0], labels.shape[0]))\n",
    "    for idx, line in enumerate(fp.read().splitlines()):\n",
    "        line_data = np.array(line.replace(' ', '')[1:-1].split(','), dtype=float)\n",
    "        distance_matrix[idx] = np.pad(line_data, (0, labels.shape[0]- line_data.shape[0]), 'constant')\n",
    "        \n",
    "print(labels)\n",
    "print(distance_matrix)"
   ]
  },
  {
   "cell_type": "code",
   "execution_count": 3,
   "metadata": {},
   "outputs": [
    {
     "name": "stdout",
     "output_type": "stream",
     "text": [
      "(Man, Monkey)\n",
      "(Horse, Donkey)\n",
      "(Dog, Pig)\n",
      "((Dog, Pig), Rabbit)\n",
      "(((Dog, Pig), Rabbit), (Horse, Donkey))\n",
      "((Man, Monkey), (((Dog, Pig), Rabbit), (Horse, Donkey)))\n"
     ]
    }
   ],
   "source": [
    "# run the algorithm until the distance matrix has only one element\n",
    "while(distance_matrix.shape[0] > 1):\n",
    "    # get the copy of the distance matrix to protect original matrix from following two operations\n",
    "    temp_distance_matrix = distance_matrix.copy()\n",
    "    # upper triangle of the distance matrix is filled with zero. So if we run a argmin function we wont\n",
    "    # be able to find min element. So, running argmin, I replace all 0's with infinity\n",
    "    temp_distance_matrix[temp_distance_matrix == 0] = np.inf\n",
    "    # find positions of minimum element\n",
    "    min_position = np.unravel_index(np.argmin(temp_distance_matrix, axis=None), temp_distance_matrix.shape)\n",
    "    \n",
    "    # join\n",
    "    # create new matrix which has the size equal to the one minus original matrix size\n",
    "    new_distance_matrix = np.zeros((distance_matrix.shape[0]-1, distance_matrix.shape[0]-1), dtype=float)\n",
    "    # get sum of all distances to the first element. min_position[1] has the fist element\n",
    "    sum_of_first = np.sum([distance_matrix[min_position[1],:], distance_matrix[:,min_position[1]]], axis=0)\n",
    "    # get sum of all distances to the second element. min_position[0] has the second element\n",
    "    sum_of_second = np.sum([distance_matrix[:,min_position[0]], distance_matrix[min_position[0],:]], axis=0)\n",
    "    # get the mean of two distance arrays\n",
    "    mean_of_union = np.mean([sum_of_first, sum_of_second], axis=0)\n",
    "    # turn the distance of two selected species to 0\n",
    "    mean_of_union[min_position[1]] = 0.0\n",
    "    # delete the distance information related with second element\n",
    "    mean_of_union = np.delete(mean_of_union, min_position[0], 0)\n",
    "    \n",
    "    # log the elements that will be joined\n",
    "    print('(' + labels[min_position[1]] + ', ' + labels[min_position[0]] + ')')\n",
    "    \n",
    "    # update the labels, delete one of the labels completely and update the other one so that \n",
    "    # new labels array contains the joined class\n",
    "    labels = np.concatenate((labels[0:min_position[1]], ['(' + labels[min_position[1]] + ', ' + labels[min_position[0]] + ')'], \n",
    "                             labels[min_position[1]+1:min_position[0]], labels[min_position[0]+1:]), axis=0)\n",
    "    \n",
    "    # delete the related column and row from the distance matrix\n",
    "    distance_matrix = np.delete(distance_matrix, min_position[0], 0)\n",
    "    distance_matrix = np.delete(distance_matrix, min_position[0], 1)\n",
    "    \n",
    "    # assign the row and column of the new label with the calculated mean array\n",
    "    distance_matrix[:,min_position[1]] = mean_of_union\n",
    "    distance_matrix[min_position[1],:] = mean_of_union\n",
    "    # fill upper side of the matrix with 0's\n",
    "    distance_matrix[np.triu_indices(distance_matrix.shape[1])] = 0"
   ]
  },
  {
   "cell_type": "code",
   "execution_count": null,
   "metadata": {},
   "outputs": [],
   "source": []
  }
 ],
 "metadata": {
  "kernelspec": {
   "display_name": "Python 3",
   "language": "python",
   "name": "python3"
  },
  "language_info": {
   "codemirror_mode": {
    "name": "ipython",
    "version": 3
   },
   "file_extension": ".py",
   "mimetype": "text/x-python",
   "name": "python",
   "nbconvert_exporter": "python",
   "pygments_lexer": "ipython3",
   "version": "3.6.2"
  }
 },
 "nbformat": 4,
 "nbformat_minor": 2
}
