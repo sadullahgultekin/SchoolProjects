{
 "cells": [
  {
   "cell_type": "markdown",
   "metadata": {},
   "source": [
    "# Bioinformatics Assignment 1"
   ]
  },
  {
   "cell_type": "markdown",
   "metadata": {},
   "source": [
    "### Phylogenetic Tree Construction by Sequence-Based Distance"
   ]
  },
  {
   "cell_type": "markdown",
   "metadata": {},
   "source": [
    "# Explain your functions //TODO"
   ]
  },
  {
   "cell_type": "markdown",
   "metadata": {},
   "source": [
    "#### Reading file"
   ]
  },
  {
   "cell_type": "code",
   "execution_count": 8,
   "metadata": {},
   "outputs": [],
   "source": [
    "import json\n",
    "from pprint import pprint"
   ]
  },
  {
   "cell_type": "code",
   "execution_count": 9,
   "metadata": {
    "scrolled": true
   },
   "outputs": [],
   "source": [
    "# Read organisms.txt to dictionary.\n",
    "with open('organisms.txt') as f:\n",
    "    organisms = json.loads(f.read().replace(\"'\",\"\\\"\"))\n"
   ]
  },
  {
   "cell_type": "code",
   "execution_count": 10,
   "metadata": {
    "scrolled": true
   },
   "outputs": [],
   "source": [
    "# Read blosum file\n",
    "with open('blosum62_ncbi.txt') as f:\n",
    "    data = f.read().splitlines()\n",
    "\n",
    "# Split data with spaces\n",
    "BLOSUM = {}\n",
    "all_chars = data[0].split()\n",
    "\n",
    "# Create empty dict for every character\n",
    "for char in all_chars:\n",
    "    BLOSUM[char] = {}\n",
    "\n",
    "for line in data[1:]:\n",
    "    # Split each line with space and delete first element\n",
    "    nums = line.split()[1:]\n",
    "    temp_dict = {}\n",
    "    \n",
    "    # Match all chars with their scores\n",
    "    for num, char in zip(nums, all_chars):\n",
    "        temp_dict[char] = int(num)\n",
    "    \n",
    "    # Add created dict into blosum matrix\n",
    "    BLOSUM[line.split()[0]] = temp_dict"
   ]
  },
  {
   "cell_type": "markdown",
   "metadata": {},
   "source": [
    "# Algorithm implementation"
   ]
  },
  {
   "cell_type": "code",
   "execution_count": 11,
   "metadata": {},
   "outputs": [],
   "source": [
    "def needleman_wunsch(seq1, seq2):\n",
    "    '''\n",
    "    This is the algorithm to find the global allignment in the sequence\n",
    "    \n",
    "    Numbers are assigned to indicate the path that will be used in the trace back process.\n",
    "    Up is -1, Left is 1, Down is 0, Final is 2\n",
    "    params: \n",
    "        seq1: first sequence to be compared\n",
    "        seq2: second sequence to be compared\n",
    "    return:\n",
    "        best_alignment_score_needleman_wunsch: best score of the found alignment\n",
    "        best_alignment_needleman_wunsch: best global alignments\n",
    "    '''\n",
    "    # add star cahr to the beginning of each sequence to make them compatible with blosum matrix\n",
    "    seq1, seq2 = '*'+seq1, '*'+seq2\n",
    "\n",
    "    # create two matrix to use in our algorithm. One for alignment scores, one for back tracking\n",
    "    alignment_matrix = [[None for i in seq2] for j in seq1]\n",
    "    way_matrix = [[None for i in seq2] for j in seq1]\n",
    "    \n",
    "    # first element will be the score of '*' by '*'\n",
    "    alignment_matrix[0][0] = BLOSUM['*']['*']\n",
    "    \n",
    "    # first element of way matrix keeps the value 2 which means we can finish our algorithm when \n",
    "    # we found this cell.\n",
    "    way_matrix[0][0] = 2\n",
    "    \n",
    "    # fill the first column with respect to blosum matrix. all the alements of way matrix will \n",
    "    # be -1 which means 'left'\n",
    "    for i in range(1, len(alignment_matrix)):\n",
    "        alignment_matrix[i][0] = alignment_matrix[i-1][0] + BLOSUM[seq1[i]]['*']\n",
    "        way_matrix[i][0] = -1\n",
    "    \n",
    "    # fill the first row with respect to blosum matrix. all the alements of way matrix will \n",
    "    # be 1 which means 'right'\n",
    "    for j in range(1, len(alignment_matrix[0])):\n",
    "        alignment_matrix[0][j] = alignment_matrix[0][j-1] + BLOSUM[seq2[j]]['*']\n",
    "        way_matrix[0][j] = 1\n",
    "        \n",
    "    # traverse both matrix\n",
    "    for i in range(1, len(alignment_matrix)):\n",
    "        for j in range(1, len(alignment_matrix[0])):\n",
    "            # calculate 3 scores\n",
    "            upper_score = alignment_matrix[i-1][j] + BLOSUM[seq1[i]]['*']\n",
    "            left_score = alignment_matrix[i][j-1] + BLOSUM[seq2[j]]['*']\n",
    "            diag_score = alignment_matrix[i-1][j-1] + BLOSUM[seq1[i]][seq2[j]]\n",
    "            \n",
    "            # max score will be the score of current cell\n",
    "            cell_score = max(upper_score, left_score, diag_score)\n",
    "            \n",
    "            # enter values to way matrix\n",
    "            if upper_score == cell_score:\n",
    "                way_matrix[i][j] = -1\n",
    "            elif left_score == cell_score:\n",
    "                way_matrix[i][j] = 1\n",
    "            elif diag_score == cell_score:\n",
    "                way_matrix[i][j] = 0\n",
    "            alignment_matrix[i][j] = cell_score\n",
    "\n",
    "    # calculate best allignments\n",
    "    best_alignment_needleman_wunsch = construct_alingments(way_matrix, alignment_matrix, seq1, seq2)\n",
    "    \n",
    "    # get best alignment score from last element of the matrix\n",
    "    best_alignment_score_needleman_wunsch = alignment_matrix[len(alignment_matrix)-1][len(alignment_matrix[0])-1]\n",
    "\n",
    "    return best_alignment_score_needleman_wunsch, best_alignment_needleman_wunsch\n",
    "\n",
    "def construct_alingments(way_matrix, alignment_matrix, original_seq1, original_seq2):\n",
    "    '''\n",
    "    constrcts the allignmets using the created matrix with needleman_wunsch algorithm\n",
    "    params:\n",
    "        way_matrix: matrix that hold the path to best alignment\n",
    "        alignment_matrix: matrix that holds the score values\n",
    "        original_seq1: first original sequence\n",
    "        original_seq1: second original sequence\n",
    "    return:\n",
    "        new_seq1: first alignment\n",
    "        new_seq2: second alignment\n",
    "    '''\n",
    "    # 'U' is -1, 'L' is 1, 'D' is 0\n",
    "    \n",
    "    # new sequences to create\n",
    "    new_seq1, new_seq2 = '', ''\n",
    "    \n",
    "    # variables to be used in list indices\n",
    "    i = len(original_seq1)-1\n",
    "    j = len(original_seq2)-1\n",
    "    while not (i == 0 and j == 0):\n",
    "        # diagonal means match or mismatch\n",
    "        if way_matrix[i][j] == 0:\n",
    "            new_seq1 = original_seq1[i] + new_seq1\n",
    "            new_seq2 = original_seq2[j] + new_seq2\n",
    "            i -= 1\n",
    "            j -= 1\n",
    "        # left means deletion\n",
    "        elif way_matrix[i][j] == 1:\n",
    "            new_seq1 = '*' + new_seq1\n",
    "            new_seq2 = original_seq2[j] + new_seq2\n",
    "            j -= 1\n",
    "        # right means insertion\n",
    "        elif way_matrix[i][j] == -1:\n",
    "            new_seq1 = original_seq1[i] + new_seq1\n",
    "            new_seq2 = '*'+ new_seq2\n",
    "            i -= 1\n",
    "    \n",
    "    # return two sequences that has the best alignments\n",
    "    return new_seq1, new_seq2"
   ]
  },
  {
   "cell_type": "code",
   "execution_count": 12,
   "metadata": {},
   "outputs": [],
   "source": [
    "def smith_waterman(seq1, seq2):\n",
    "    '''\n",
    "    This is the algorithm to find the local allignment in the sequence\n",
    "    \n",
    "    Numbers are assigned to indicate the path that will be used in the trace back process.\n",
    "    Up is -1, Left is 1, Down is 0, Final is 2\n",
    "    params: \n",
    "        seq1: first sequence to be compared\n",
    "        seq2: second sequence to be compared\n",
    "    return:\n",
    "        best_alignment_score_smith_waterman: best score of the found alignment\n",
    "        best_alignment_smith_waterman: best local alignments\n",
    "    '''\n",
    "    # add star cahr to the beginning of each sequence to make them compatible with blosum matrix\n",
    "    seq1, seq2 = '*'+seq1, '*'+seq2\n",
    "    \n",
    "    # create two matrix to use in our algorithm. One for alignment scores, one for back tracking\n",
    "    alignment_matrix = [[None for i in seq2] for j in seq1]\n",
    "    way_matrix = [[None for i in seq2] for j in seq1]\n",
    "\n",
    "    # first element will be the score of '*' by '*'\n",
    "    alignment_matrix[0][0] = BLOSUM['*']['*']\n",
    "    \n",
    "    # first element of way matrix keeps the value 2 which means we can finish our algorithm when \n",
    "    # we found this cell.\n",
    "    way_matrix[0][0] = 2\n",
    "\n",
    "    # fill the first column with respect to blosum matrix. all the alements of way matrix will \n",
    "    # be -1 which means 'left'\n",
    "    for i in range(1, len(alignment_matrix)):\n",
    "        alignment_matrix[i][0] = 0\n",
    "        way_matrix[i][0] = 2\n",
    "\n",
    "    # fill the first row with respect to blosum matrix. all the alements of way matrix will \n",
    "    # be 1 which means 'right'\n",
    "    for j in range(1, len(alignment_matrix[0])):\n",
    "        alignment_matrix[0][j] = 0\n",
    "        way_matrix[0][j] = 2\n",
    "\n",
    "    # traverse both matrix\n",
    "    for i in range(1, len(alignment_matrix)):\n",
    "        for j in range(1, len(alignment_matrix[0])):\n",
    "            # calculate 3 scores\n",
    "            upper_score = alignment_matrix[i-1][j] + BLOSUM[seq1[i]]['*']\n",
    "            left_score = alignment_matrix[i][j-1] + BLOSUM[seq2[j]]['*']\n",
    "            diag_score = alignment_matrix[i-1][j-1] + BLOSUM[seq1[i]][seq2[j]]\n",
    "            \n",
    "            # max score will be the score of current cell, consider the 0 also\n",
    "            cell_score = max(upper_score, left_score, diag_score, 0)\n",
    "            \n",
    "            # enter values to way matrix\n",
    "            if upper_score == cell_score:\n",
    "                way_matrix[i][j] = -1\n",
    "            elif left_score == cell_score:\n",
    "                way_matrix[i][j] = 1\n",
    "            elif diag_score == cell_score:\n",
    "                way_matrix[i][j] = 0\n",
    "            elif 0 == cell_score:\n",
    "                way_matrix[i][j] = 2\n",
    "                \n",
    "            alignment_matrix[i][j] = cell_score\n",
    "\n",
    "    # calculate the allignments\n",
    "    best_alignment_smith_waterman = get_alignments(way_matrix, alignment_matrix, seq1, seq2)\n",
    "    \n",
    "    # get best alignment score from max element of the matrix\n",
    "    best_alignment_score_smith_waterman = max(map(lambda x: max(x), alignment_matrix))\n",
    "    \n",
    "    return best_alignment_score_smith_waterman, best_alignment_smith_waterman\n",
    "\n",
    "def my_argmax_2d(alignment_matrix):\n",
    "    '''\n",
    "    Finds the indices of the element with the higest value in a two dimentional array\n",
    "    params:\n",
    "        matrix that will be processed\n",
    "    return:\n",
    "        indices of the element with the maximum value\n",
    "    '''\n",
    "    return max(map(lambda x: max(x), [[(elem, row_idx, idx) for elem, idx in zip(row,range(len(row)))] for row, row_idx in zip(alignment_matrix, range(len(alignment_matrix)))]))\n",
    "\n",
    "def get_alignments(way_matrix, alignment_matrix, original_seq1, original_seq2):\n",
    "    '''\n",
    "    constrcts the allignmets using the created matrix with smith_waterman algorithm\n",
    "    params:\n",
    "        way_matrix: matrix that hold the path to best alignment\n",
    "        alignment_matrix: matrix that holds the score values\n",
    "        original_seq1: first original sequence\n",
    "        original_seq1: second original sequence\n",
    "    return:\n",
    "        new_seq1: first alignment\n",
    "        new_seq2: second alignment\n",
    "    '''\n",
    "    # new sequences to create\n",
    "    new_seq1, new_seq2 = '', ''\n",
    "    \n",
    "    # finds the indices of max element\n",
    "    max_elem = my_argmax_2d(alignment_matrix)\n",
    "    \n",
    "    # get the indeces of max element into i and j variable\n",
    "    i, j = max_elem[1], max_elem[2]\n",
    "    while way_matrix[i][j] != 2:\n",
    "        # diagonal means match or mismatch\n",
    "        if way_matrix[i][j] == 0:\n",
    "            new_seq1 = original_seq1[i] + new_seq1\n",
    "            new_seq2 = original_seq2[j] + new_seq2\n",
    "            i -= 1\n",
    "            j -= 1\n",
    "        # left means deletion\n",
    "        elif way_matrix[i][j] == 1:\n",
    "            new_seq1 = '*' + new_seq1\n",
    "            new_seq2 = original_seq2[j] + new_seq2\n",
    "            j -= 1\n",
    "        elif way_matrix[i][j] == -1:\n",
    "            # right means insertion\n",
    "            new_seq1 = original_seq1[i] + new_seq1\n",
    "            new_seq2 = '*' + new_seq2\n",
    "            i -= 1\n",
    "    \n",
    "    # return two sequences that has the best alignments\n",
    "    return new_seq1, new_seq2"
   ]
  },
  {
   "cell_type": "markdown",
   "metadata": {},
   "source": [
    "# Calculate Score Matrix"
   ]
  },
  {
   "cell_type": "code",
   "execution_count": 13,
   "metadata": {
    "scrolled": true
   },
   "outputs": [],
   "source": [
    "def calculate_score_matrix(organisms, algorithm):\n",
    "    '''\n",
    "    Calculate score matrix using smith_waterman or needleman_wunsch\n",
    "    params:\n",
    "        organisms: organisms to be compared\n",
    "        algorithm: algorithm to be used. can be either smith_waterman or needleman_wunsch\n",
    "    return:\n",
    "        score_matrix: matrix that hold the scores for each sequence pairs\n",
    "    '''\n",
    "    # get all sequences\n",
    "    all_seqs = [elem[1] for elem in list(organisms.values())]\n",
    "    \n",
    "    # create an empty score matrix\n",
    "    score_matrix = [[None for i in all_seqs] for j in all_seqs]\n",
    "    \n",
    "    # traverse the score matrix\n",
    "    for idx1, seq1 in enumerate(all_seqs):\n",
    "        for idx2, seq2 in enumerate(all_seqs):\n",
    "            # call the algorithm to be used\n",
    "            if algorithm == 'NW':\n",
    "                score_matrix[idx1][idx2] = needleman_wunsch(seq1, seq2)[0]\n",
    "            else:\n",
    "                score_matrix[idx1][idx2] = smith_waterman(seq1, seq2)[0]\n",
    "        \n",
    "    return score_matrix"
   ]
  },
  {
   "cell_type": "markdown",
   "metadata": {},
   "source": [
    "# Calculate Distance Matrix"
   ]
  },
  {
   "cell_type": "code",
   "execution_count": 14,
   "metadata": {},
   "outputs": [],
   "source": [
    "def calculate_distance_matrix(score_matrix, organisms, algorithm):\n",
    "    '''\n",
    "    Calculate the distances between organism pairs\n",
    "    params:\n",
    "        score_matrix: matrix that keeps the score for each sequence pairs\n",
    "    return:\n",
    "        distance_matrix: matrix that keeps the distances for all sequences\n",
    "    '''\n",
    "    # max elements in each row\n",
    "    maxs = list(map(lambda x: sorted(x, reverse=True)[1], score_matrix))\n",
    "    \n",
    "    # traverse the score matrix\n",
    "    for i, row in enumerate(score_matrix):\n",
    "        for j, elem in enumerate(row):\n",
    "            # subtract the max of each row from each element of the row\n",
    "            score_matrix[i][j] -= maxs[i]\n",
    "    \n",
    "    distance_matrix = score_matrix\n",
    "    \n",
    "    return distance_matrix"
   ]
  },
  {
   "cell_type": "markdown",
   "metadata": {},
   "source": [
    "# Generate Phylogenetic Tree"
   ]
  },
  {
   "cell_type": "code",
   "execution_count": 23,
   "metadata": {},
   "outputs": [],
   "source": [
    "from scipy.cluster.hierarchy import linkage, dendrogram\n",
    "import pylab\n",
    "\n",
    "def generate_phylogenetic_tree(organisms, distance_matrix, algorithm):    \n",
    "    average = linkage(distance_matrix, \"average\")\n",
    "    keys = [elem[0] for elem in organisms.values()]\n",
    "    dendrogram(average, labels=keys, orientation=\"left\", leaf_font_size=10)\n",
    "    pylab.subplots_adjust(bottom=0.1, left=0.2, right=1.0, top=1.0)\n",
    "    # pylab.savefig(\"YourNameSurname\" + algorithm +\".jpg\", )\n",
    "    # Save figure as pylab.savefig(\"YourNameSurname\" + algorithm +\".jpg\")\n",
    "    # Show figure"
   ]
  },
  {
   "cell_type": "markdown",
   "metadata": {},
   "source": [
    "# Function Calls"
   ]
  },
  {
   "cell_type": "markdown",
   "metadata": {},
   "source": [
    "# NEEDLEMAN WUNSCH"
   ]
  },
  {
   "cell_type": "code",
   "execution_count": 19,
   "metadata": {},
   "outputs": [],
   "source": [
    "algorithm = 'NW'\n",
    "seq1 = organisms['EF153719.1'][1] # Turkey organism\n",
    "seq2 = organisms['KM096864.1'][1] # Chicken organism\n",
    "\n",
    "# Functions tests\n",
    "best_alignment_score_needleman_wunsch, best_alignment_needleman_wunsch = needleman_wunsch(seq1, seq2)"
   ]
  },
  {
   "cell_type": "code",
   "execution_count": 20,
   "metadata": {},
   "outputs": [
    {
     "data": {
      "image/png": "[encoded data removed]",
      "text/plain": [
       "<Figure size 432x288 with 1 Axes>"
      ]
     },
     "metadata": {
      "needs_background": "light"
     },
     "output_type": "display_data"
    }
   ],
   "source": [
    "# Phylogenetic tree test\n",
    "score_matrix = calculate_score_matrix(organisms, algorithm)\n",
    "distance_matrix = calculate_distance_matrix(score_matrix, organisms, algorithm)\n",
    "generate_phylogenetic_tree(organisms, distance_matrix, algorithm)"
   ]
  },
  {
   "cell_type": "markdown",
   "metadata": {},
   "source": [
    "# SMITH WATER"
   ]
  },
  {
   "cell_type": "code",
   "execution_count": 21,
   "metadata": {},
   "outputs": [],
   "source": [
    "algorithm = 'SW'\n",
    "seq1 = organisms['EF153719.1'][1] # Turkey organism\n",
    "seq2 = organisms['KM096864.1'][1] # Chicken organism\n",
    "\n",
    "# Functions tests\n",
    "best_alignment_score_smith_waterman, best_alignment_smith_waterman = smith_waterman(seq1, seq2)"
   ]
  },
  {
   "cell_type": "code",
   "execution_count": 22,
   "metadata": {},
   "outputs": [
    {
     "data": {
      "image/png": "[encoded data removed]",
      "text/plain": [
       "<Figure size 432x288 with 1 Axes>"
      ]
     },
     "metadata": {
      "needs_background": "light"
     },
     "output_type": "display_data"
    }
   ],
   "source": [
    "# Phylogenetic tree test\n",
    "score_matrix = calculate_score_matrix(organisms, algorithm)\n",
    "distance_matrix = calculate_distance_matrix(score_matrix, organisms, algorithm)\n",
    "generate_phylogenetic_tree(organisms, distance_matrix, algorithm)"
   ]
  },
  {
   "cell_type": "markdown",
   "metadata": {},
   "source": [
    "# Evaluation of the outputs // TODO"
   ]
  },
  {
   "cell_type": "markdown",
   "metadata": {},
   "source": [
    "7. Comment on the results of two output images."
   ]
  },
  {
   "cell_type": "markdown",
   "metadata": {},
   "source": [
    "Notes: \n",
    "1. Your are not allowed to use Numpy.\n",
    "2. You are not allowed to use any libraries to find the Needleman Wunsch and Smith Waterman scores.\n",
    "3. You can only use standard libraries apart from the given codes.\n",
    "4. Please submit your assignment using Moodle. Upload a single zip file named as YourNameSurname.zip. Your zip file should include your report, your source code, and the corresponding read.me file. You can use any programming language of your choice. But, your read.me file should clearly explain how to run your program.\n",
    "5. For any question e-mail me from selen.parlar@boun.edu.tr"
   ]
  }
 ],
 "metadata": {
  "kernelspec": {
   "display_name": "Python 3",
   "language": "python",
   "name": "python3"
  },
  "language_info": {
   "codemirror_mode": {
    "name": "ipython",
    "version": 3
   },
   "file_extension": ".py",
   "mimetype": "text/x-python",
   "name": "python",
   "nbconvert_exporter": "python",
   "pygments_lexer": "ipython3",
   "version": "3.6.2"
  }
 },
 "nbformat": 4,
 "nbformat_minor": 2
}
