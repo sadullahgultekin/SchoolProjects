{
 "cells": [
  {
   "cell_type": "markdown",
   "metadata": {
    "colab_type": "text",
    "id": "2jb8AUdePkOo"
   },
   "source": [
    "<h1><center>CMPE 462 - Project 2<br>Implementing an SVM Classifier<br>Due: May 18, 2020, 23:59</center></h1>"
   ]
  },
  {
   "cell_type": "markdown",
   "metadata": {
    "colab_type": "text",
    "id": "_moMgwqUPkOu"
   },
   "source": [
    "* **Student ID1: 2014400042**\n",
    "* **Student ID2: 2014400117**\n",
    "* **Student ID3: 2014400066**"
   ]
  },
  {
   "cell_type": "markdown",
   "metadata": {
    "colab_type": "text",
    "id": "OEYxix5tPkOy"
   },
   "source": [
    "## Overview\n",
    "\n",
    "In this project, you are going to implement SVM. For this purpose, a data set (data.mat) is given to you. You can load the mat dataset into Python using the function `loadmat` in `Scipy.io`. When you load the data, you will obtain a dictionary object, where `X` stores the data matrix and `Y` stores the labels. You can use the first 150 samples for training and the rest for testing. In this project, you will use the software package [`LIBSVM`](http://www.csie.ntu.edu.tw/~cjlin/libsvm/) to implement SVM. Note that `LIBSVM` has a [`Python interface`](https://github.com/cjlin1/libsvm/tree/master/python), so you can call the SVM functions in Python. "
   ]
  },
  {
   "cell_type": "code",
   "execution_count": 1,
   "metadata": {
    "colab": {},
    "colab_type": "code",
    "id": "O9RkvaJ3R3J1"
   },
   "outputs": [
    {
     "name": "stderr",
     "output_type": "stream",
     "text": [
      "\n",
      "Bad key \"text.kerning_factor\" on line 4 in\n",
      "/Users/sadullahgultekin/miniconda3/envs/adversarial/lib/python3.6/site-packages/matplotlib/mpl-data/stylelib/_classic_test_patch.mplstyle.\n",
      "You probably need to get an updated matplotlibrc file from\n",
      "https://github.com/matplotlib/matplotlib/blob/v3.1.3/matplotlibrc.template\n",
      "or from the matplotlib source distribution\n"
     ]
    }
   ],
   "source": [
    "import numpy as np\n",
    "import scipy.io as sio \n",
    "import matplotlib.pyplot as plt \n",
    "from libsvm.svmutil import *\n",
    "import random"
   ]
  },
  {
   "cell_type": "markdown",
   "metadata": {
    "colab_type": "text",
    "id": "6qqmidoCPkO3"
   },
   "source": [
    "## Task 1 - 30 pts\n",
    "\n",
    "Train a hard margin linear SVM and report both train and test classification accuracy."
   ]
  },
  {
   "cell_type": "code",
   "execution_count": 2,
   "metadata": {
    "colab": {},
    "colab_type": "code",
    "id": "UZsCGvBjQUjD"
   },
   "outputs": [],
   "source": [
    "data = sio.loadmat(\"data.mat\")\n",
    "data, label = data['X'], data['Y'].reshape(-1,)\n",
    "\n",
    "np.random.seed(3)\n",
    "p = np.random.permutation(label.shape[0])\n",
    "data = data[p]\n",
    "label = label[p]\n",
    "\n",
    "train_num = 150\n",
    "\n",
    "train_data, train_label = data[:train_num], label[:train_num]\n",
    "test_data, test_label = data[train_num:], label[train_num:]"
   ]
  },
  {
   "cell_type": "markdown",
   "metadata": {},
   "source": [
    "## HARD MARGIN SVM"
   ]
  },
  {
   "cell_type": "code",
   "execution_count": 3,
   "metadata": {
    "colab": {},
    "colab_type": "code",
    "id": "BZkRu8VkhOKw"
   },
   "outputs": [
    {
     "name": "stdout",
     "output_type": "stream",
     "text": [
      "Train Accuracy\n",
      "Accuracy = 100% (150/150) (classification)\n",
      "Test Accuracy\n",
      "Accuracy = 74.1667% (89/120) (classification)\n"
     ]
    }
   ],
   "source": [
    "model = svm_train(train_label, train_data, '-c 99999')\n",
    "print(\"Train Accuracy\")\n",
    "p_label, p_acc, p_val = svm_predict(train_label, train_data, model)\n",
    "print(\"Test Accuracy\")\n",
    "p_label, p_acc, p_val = svm_predict(test_label, test_data, model)"
   ]
  },
  {
   "cell_type": "markdown",
   "metadata": {
    "colab_type": "text",
    "id": "qtGBw9moPkPT"
   },
   "source": [
    "# Task 2 - 40 pts\n",
    "\n",
    "Train soft margin SVM for different values of the parameter $C$, and with different kernel functions. Systematically report your results. For instance, report the performances of different kernels for a fixed $C$, then report the performance for different $C$ values for a fixed kernel, and so on."
   ]
  },
  {
   "cell_type": "code",
   "execution_count": 4,
   "metadata": {},
   "outputs": [],
   "source": [
    "# Functions to be used for printing purposes\n",
    "def print_in_red(text):\n",
    "    print(f'\\033[91m{text}\\033[0m')\n",
    "def print_in_blue(text):\n",
    "    print(f'\\033[94m{text}\\033[0m')"
   ]
  },
  {
   "cell_type": "markdown",
   "metadata": {},
   "source": [
    "## Soft margin with different costs and kernels"
   ]
  },
  {
   "cell_type": "markdown",
   "metadata": {},
   "source": [
    "* -t kernel_type : set type of kernel function (default 2)\n",
    "    * 0 -- linear: u'*v\n",
    "\t* 1 -- polynomial: (gamma*u'*v + coef0)^degree\n",
    "\t* 2 -- radial basis function: exp(-gamma*|u-v|^2)\n",
    "\t* 3 -- sigmoid: tanh(gamma*u'*v + coef0)\n",
    "\t* 4 -- precomputed kernel (kernel values in training_set_file)\n",
    "\n",
    "* -c cost : set the parameter C of C-SVC, epsilon-SVR, and nu-SVR (default 1)"
   ]
  },
  {
   "cell_type": "code",
   "execution_count": 5,
   "metadata": {},
   "outputs": [],
   "source": [
    "kernels = ['linear', 'polynomial', 'RBF', 'sigmoid']\n",
    "costs = [0.01, 0.05, 0.08, 0.1, 0.3, 0.5, 0.8, 1, 1.5, 2, 10, 100, 200]"
   ]
  },
  {
   "cell_type": "markdown",
   "metadata": {},
   "source": [
    "### Different kernels for fixed cost"
   ]
  },
  {
   "cell_type": "code",
   "execution_count": 6,
   "metadata": {
    "colab": {},
    "colab_type": "code",
    "id": "souCJFfohW9o"
   },
   "outputs": [
    {
     "name": "stdout",
     "output_type": "stream",
     "text": [
      "\u001b[94m############ COST REPORT ############\n",
      "\u001b[0m\n",
      "\u001b[91mFIXED COST: 0.01\u001b[0m\n",
      "\u001b[94m#####################################\u001b[0m\n",
      "Kernel type\t: linear\n",
      "Cost\t\t: 0.01\n",
      "Accuracy = 81.6667% (98/120) (classification)\n",
      "\u001b[94m#####################################\u001b[0m\n",
      "Kernel type\t: polynomial\n",
      "Cost\t\t: 0.01\n",
      "Accuracy = 50% (60/120) (classification)\n",
      "\u001b[94m#####################################\u001b[0m\n",
      "Kernel type\t: RBF\n",
      "Cost\t\t: 0.01\n",
      "Accuracy = 50% (60/120) (classification)\n",
      "\u001b[94m#####################################\u001b[0m\n",
      "Kernel type\t: sigmoid\n",
      "Cost\t\t: 0.01\n",
      "Accuracy = 50% (60/120) (classification)\n",
      "\u001b[94m#####################################\n",
      "\u001b[0m\n",
      "\u001b[91mFIXED COST: 0.05\u001b[0m\n",
      "\u001b[94m#####################################\u001b[0m\n",
      "Kernel type\t: linear\n",
      "Cost\t\t: 0.05\n",
      "Accuracy = 84.1667% (101/120) (classification)\n",
      "\u001b[94m#####################################\u001b[0m\n",
      "Kernel type\t: polynomial\n",
      "Cost\t\t: 0.05\n",
      "Accuracy = 50% (60/120) (classification)\n",
      "\u001b[94m#####################################\u001b[0m\n",
      "Kernel type\t: RBF\n",
      "Cost\t\t: 0.05\n",
      "Accuracy = 54.1667% (65/120) (classification)\n",
      "\u001b[94m#####################################\u001b[0m\n",
      "Kernel type\t: sigmoid\n",
      "Cost\t\t: 0.05\n",
      "Accuracy = 60% (72/120) (classification)\n",
      "\u001b[94m#####################################\n",
      "\u001b[0m\n",
      "\u001b[91mFIXED COST: 0.08\u001b[0m\n",
      "\u001b[94m#####################################\u001b[0m\n",
      "Kernel type\t: linear\n",
      "Cost\t\t: 0.08\n",
      "Accuracy = 83.3333% (100/120) (classification)\n",
      "\u001b[94m#####################################\u001b[0m\n",
      "Kernel type\t: polynomial\n",
      "Cost\t\t: 0.08\n",
      "Accuracy = 50% (60/120) (classification)\n",
      "\u001b[94m#####################################\u001b[0m\n",
      "Kernel type\t: RBF\n",
      "Cost\t\t: 0.08\n",
      "Accuracy = 72.5% (87/120) (classification)\n",
      "\u001b[94m#####################################\u001b[0m\n",
      "Kernel type\t: sigmoid\n",
      "Cost\t\t: 0.08\n",
      "Accuracy = 76.6667% (92/120) (classification)\n",
      "\u001b[94m#####################################\n",
      "\u001b[0m\n",
      "\u001b[91mFIXED COST: 0.1\u001b[0m\n",
      "\u001b[94m#####################################\u001b[0m\n",
      "Kernel type\t: linear\n",
      "Cost\t\t: 0.1\n",
      "Accuracy = 82.5% (99/120) (classification)\n",
      "\u001b[94m#####################################\u001b[0m\n",
      "Kernel type\t: polynomial\n",
      "Cost\t\t: 0.1\n",
      "Accuracy = 50% (60/120) (classification)\n",
      "\u001b[94m#####################################\u001b[0m\n",
      "Kernel type\t: RBF\n",
      "Cost\t\t: 0.1\n",
      "Accuracy = 78.3333% (94/120) (classification)\n",
      "\u001b[94m#####################################\u001b[0m\n",
      "Kernel type\t: sigmoid\n",
      "Cost\t\t: 0.1\n",
      "Accuracy = 77.5% (93/120) (classification)\n",
      "\u001b[94m#####################################\n",
      "\u001b[0m\n",
      "\u001b[91mFIXED COST: 0.3\u001b[0m\n",
      "\u001b[94m#####################################\u001b[0m\n",
      "Kernel type\t: linear\n",
      "Cost\t\t: 0.3\n",
      "Accuracy = 80.8333% (97/120) (classification)\n",
      "\u001b[94m#####################################\u001b[0m\n",
      "Kernel type\t: polynomial\n",
      "Cost\t\t: 0.3\n",
      "Accuracy = 58.3333% (70/120) (classification)\n",
      "\u001b[94m#####################################\u001b[0m\n",
      "Kernel type\t: RBF\n",
      "Cost\t\t: 0.3\n",
      "Accuracy = 83.3333% (100/120) (classification)\n",
      "\u001b[94m#####################################\u001b[0m\n",
      "Kernel type\t: sigmoid\n",
      "Cost\t\t: 0.3\n",
      "Accuracy = 81.6667% (98/120) (classification)\n",
      "\u001b[94m#####################################\n",
      "\u001b[0m\n",
      "\u001b[91mFIXED COST: 0.5\u001b[0m\n",
      "\u001b[94m#####################################\u001b[0m\n",
      "Kernel type\t: linear\n",
      "Cost\t\t: 0.5\n",
      "Accuracy = 80.8333% (97/120) (classification)\n",
      "\u001b[94m#####################################\u001b[0m\n",
      "Kernel type\t: polynomial\n",
      "Cost\t\t: 0.5\n",
      "Accuracy = 80% (96/120) (classification)\n",
      "\u001b[94m#####################################\u001b[0m\n",
      "Kernel type\t: RBF\n",
      "Cost\t\t: 0.5\n",
      "Accuracy = 83.3333% (100/120) (classification)\n",
      "\u001b[94m#####################################\u001b[0m\n",
      "Kernel type\t: sigmoid\n",
      "Cost\t\t: 0.5\n",
      "Accuracy = 84.1667% (101/120) (classification)\n",
      "\u001b[94m#####################################\n",
      "\u001b[0m\n",
      "\u001b[91mFIXED COST: 0.8\u001b[0m\n",
      "\u001b[94m#####################################\u001b[0m\n",
      "Kernel type\t: linear\n",
      "Cost\t\t: 0.8\n",
      "Accuracy = 81.6667% (98/120) (classification)\n",
      "\u001b[94m#####################################\u001b[0m\n",
      "Kernel type\t: polynomial\n",
      "Cost\t\t: 0.8\n",
      "Accuracy = 80.8333% (97/120) (classification)\n",
      "\u001b[94m#####################################\u001b[0m\n",
      "Kernel type\t: RBF\n",
      "Cost\t\t: 0.8\n",
      "Accuracy = 83.3333% (100/120) (classification)\n",
      "\u001b[94m#####################################\u001b[0m\n",
      "Kernel type\t: sigmoid\n",
      "Cost\t\t: 0.8\n",
      "Accuracy = 84.1667% (101/120) (classification)\n",
      "\u001b[94m#####################################\n",
      "\u001b[0m\n",
      "\u001b[91mFIXED COST: 1\u001b[0m\n",
      "\u001b[94m#####################################\u001b[0m\n",
      "Kernel type\t: linear\n",
      "Cost\t\t: 1\n",
      "Accuracy = 81.6667% (98/120) (classification)\n",
      "\u001b[94m#####################################\u001b[0m\n",
      "Kernel type\t: polynomial\n",
      "Cost\t\t: 1\n",
      "Accuracy = 80% (96/120) (classification)\n",
      "\u001b[94m#####################################\u001b[0m\n",
      "Kernel type\t: RBF\n",
      "Cost\t\t: 1\n",
      "Accuracy = 82.5% (99/120) (classification)\n",
      "\u001b[94m#####################################\u001b[0m\n",
      "Kernel type\t: sigmoid\n",
      "Cost\t\t: 1\n",
      "Accuracy = 84.1667% (101/120) (classification)\n",
      "\u001b[94m#####################################\n",
      "\u001b[0m\n",
      "\u001b[91mFIXED COST: 1.5\u001b[0m\n",
      "\u001b[94m#####################################\u001b[0m\n",
      "Kernel type\t: linear\n",
      "Cost\t\t: 1.5\n",
      "Accuracy = 80% (96/120) (classification)\n",
      "\u001b[94m#####################################\u001b[0m\n",
      "Kernel type\t: polynomial\n",
      "Cost\t\t: 1.5\n",
      "Accuracy = 78.3333% (94/120) (classification)\n",
      "\u001b[94m#####################################\u001b[0m\n",
      "Kernel type\t: RBF\n",
      "Cost\t\t: 1.5\n",
      "Accuracy = 80.8333% (97/120) (classification)\n",
      "\u001b[94m#####################################\u001b[0m\n",
      "Kernel type\t: sigmoid\n",
      "Cost\t\t: 1.5\n",
      "Accuracy = 83.3333% (100/120) (classification)\n",
      "\u001b[94m#####################################\n",
      "\u001b[0m\n",
      "\u001b[91mFIXED COST: 2\u001b[0m\n",
      "\u001b[94m#####################################\u001b[0m\n",
      "Kernel type\t: linear\n",
      "Cost\t\t: 2\n",
      "Accuracy = 80% (96/120) (classification)\n",
      "\u001b[94m#####################################\u001b[0m\n",
      "Kernel type\t: polynomial\n",
      "Cost\t\t: 2\n",
      "Accuracy = 79.1667% (95/120) (classification)\n",
      "\u001b[94m#####################################\u001b[0m\n",
      "Kernel type\t: RBF\n",
      "Cost\t\t: 2\n",
      "Accuracy = 80.8333% (97/120) (classification)\n",
      "\u001b[94m#####################################\u001b[0m\n",
      "Kernel type\t: sigmoid\n",
      "Cost\t\t: 2\n",
      "Accuracy = 84.1667% (101/120) (classification)\n",
      "\u001b[94m#####################################\n",
      "\u001b[0m\n",
      "\u001b[91mFIXED COST: 10\u001b[0m\n",
      "\u001b[94m#####################################\u001b[0m\n",
      "Kernel type\t: linear\n",
      "Cost\t\t: 10\n",
      "Accuracy = 80% (96/120) (classification)\n",
      "\u001b[94m#####################################\u001b[0m\n",
      "Kernel type\t: polynomial\n",
      "Cost\t\t: 10\n",
      "Accuracy = 75.8333% (91/120) (classification)\n",
      "\u001b[94m#####################################\u001b[0m\n",
      "Kernel type\t: RBF\n",
      "Cost\t\t: 10\n",
      "Accuracy = 77.5% (93/120) (classification)\n",
      "\u001b[94m#####################################\u001b[0m\n",
      "Kernel type\t: sigmoid\n",
      "Cost\t\t: 10\n",
      "Accuracy = 82.5% (99/120) (classification)\n",
      "\u001b[94m#####################################\n",
      "\u001b[0m\n",
      "\u001b[91mFIXED COST: 100\u001b[0m\n",
      "\u001b[94m#####################################\u001b[0m\n",
      "Kernel type\t: linear\n",
      "Cost\t\t: 100\n",
      "Accuracy = 80.8333% (97/120) (classification)\n",
      "\u001b[94m#####################################\u001b[0m\n",
      "Kernel type\t: polynomial\n",
      "Cost\t\t: 100\n",
      "Accuracy = 72.5% (87/120) (classification)\n",
      "\u001b[94m#####################################\u001b[0m\n",
      "Kernel type\t: RBF\n",
      "Cost\t\t: 100\n",
      "Accuracy = 74.1667% (89/120) (classification)\n",
      "\u001b[94m#####################################\u001b[0m\n",
      "Kernel type\t: sigmoid\n",
      "Cost\t\t: 100\n",
      "Accuracy = 75.8333% (91/120) (classification)\n",
      "\u001b[94m#####################################\n",
      "\u001b[0m\n",
      "\u001b[91mFIXED COST: 200\u001b[0m\n",
      "\u001b[94m#####################################\u001b[0m\n",
      "Kernel type\t: linear\n",
      "Cost\t\t: 200\n",
      "Accuracy = 80.8333% (97/120) (classification)\n",
      "\u001b[94m#####################################\u001b[0m\n",
      "Kernel type\t: polynomial\n",
      "Cost\t\t: 200\n",
      "Accuracy = 70.8333% (85/120) (classification)\n",
      "\u001b[94m#####################################\u001b[0m\n",
      "Kernel type\t: RBF\n",
      "Cost\t\t: 200\n",
      "Accuracy = 74.1667% (89/120) (classification)\n",
      "\u001b[94m#####################################\u001b[0m\n",
      "Kernel type\t: sigmoid\n",
      "Cost\t\t: 200\n",
      "Accuracy = 75% (90/120) (classification)\n",
      "\u001b[94m#####################################\n",
      "\u001b[0m\n"
     ]
    }
   ],
   "source": [
    "print_in_blue('############ COST REPORT ############\\n')\n",
    "for cost in costs:\n",
    "    print_in_red('FIXED COST: ' + str(cost))\n",
    "    for kernelType in range(0,4):\n",
    "        print_in_blue('#####################################')        \n",
    "        print(f'Kernel type\\t: {kernels[kernelType]}\\nCost\\t\\t: {cost}')\n",
    "        \n",
    "        model = svm_train(\n",
    "            train_label, \n",
    "            train_data, \n",
    "            f'-t {kernelType} -c {cost}')\n",
    "        svm_predict(test_label, test_data, model)\n",
    "\n",
    "    print_in_blue('#####################################\\n')\n"
   ]
  },
  {
   "cell_type": "markdown",
   "metadata": {},
   "source": [
    "### Different costs for fixed kernels"
   ]
  },
  {
   "cell_type": "code",
   "execution_count": 7,
   "metadata": {},
   "outputs": [
    {
     "name": "stdout",
     "output_type": "stream",
     "text": [
      "\u001b[94m\n",
      "########### KERNEL REPORT ###########\n",
      "\u001b[0m\n",
      "\u001b[91mFIXED KERNEL: linear\u001b[0m\n",
      "\u001b[94m#####################################\u001b[0m\n",
      "Kernel type\t: linear\n",
      "Cost\t\t: 0.01\n",
      "Accuracy = 81.6667% (98/120) (classification)\n",
      "\u001b[94m#####################################\u001b[0m\n",
      "Kernel type\t: linear\n",
      "Cost\t\t: 0.05\n",
      "Accuracy = 84.1667% (101/120) (classification)\n",
      "\u001b[94m#####################################\u001b[0m\n",
      "Kernel type\t: linear\n",
      "Cost\t\t: 0.08\n",
      "Accuracy = 83.3333% (100/120) (classification)\n",
      "\u001b[94m#####################################\u001b[0m\n",
      "Kernel type\t: linear\n",
      "Cost\t\t: 0.1\n",
      "Accuracy = 82.5% (99/120) (classification)\n",
      "\u001b[94m#####################################\u001b[0m\n",
      "Kernel type\t: linear\n",
      "Cost\t\t: 0.3\n",
      "Accuracy = 80.8333% (97/120) (classification)\n",
      "\u001b[94m#####################################\u001b[0m\n",
      "Kernel type\t: linear\n",
      "Cost\t\t: 0.5\n",
      "Accuracy = 80.8333% (97/120) (classification)\n",
      "\u001b[94m#####################################\u001b[0m\n",
      "Kernel type\t: linear\n",
      "Cost\t\t: 0.8\n",
      "Accuracy = 81.6667% (98/120) (classification)\n",
      "\u001b[94m#####################################\u001b[0m\n",
      "Kernel type\t: linear\n",
      "Cost\t\t: 1\n",
      "Accuracy = 81.6667% (98/120) (classification)\n",
      "\u001b[94m#####################################\u001b[0m\n",
      "Kernel type\t: linear\n",
      "Cost\t\t: 1.5\n",
      "Accuracy = 80% (96/120) (classification)\n",
      "\u001b[94m#####################################\u001b[0m\n",
      "Kernel type\t: linear\n",
      "Cost\t\t: 2\n",
      "Accuracy = 80% (96/120) (classification)\n",
      "\u001b[94m#####################################\u001b[0m\n",
      "Kernel type\t: linear\n",
      "Cost\t\t: 10\n",
      "Accuracy = 80% (96/120) (classification)\n",
      "\u001b[94m#####################################\u001b[0m\n",
      "Kernel type\t: linear\n",
      "Cost\t\t: 100\n",
      "Accuracy = 80.8333% (97/120) (classification)\n",
      "\u001b[94m#####################################\u001b[0m\n",
      "Kernel type\t: linear\n",
      "Cost\t\t: 200\n",
      "Accuracy = 80.8333% (97/120) (classification)\n",
      "\u001b[94m#####################################\n",
      "\u001b[0m\n",
      "\u001b[91mFIXED KERNEL: polynomial\u001b[0m\n",
      "\u001b[94m#####################################\u001b[0m\n",
      "Kernel type\t: polynomial\n",
      "Cost\t\t: 0.01\n",
      "Accuracy = 50% (60/120) (classification)\n",
      "\u001b[94m#####################################\u001b[0m\n",
      "Kernel type\t: polynomial\n",
      "Cost\t\t: 0.05\n",
      "Accuracy = 50% (60/120) (classification)\n",
      "\u001b[94m#####################################\u001b[0m\n",
      "Kernel type\t: polynomial\n",
      "Cost\t\t: 0.08\n",
      "Accuracy = 50% (60/120) (classification)\n",
      "\u001b[94m#####################################\u001b[0m\n",
      "Kernel type\t: polynomial\n",
      "Cost\t\t: 0.1\n",
      "Accuracy = 50% (60/120) (classification)\n",
      "\u001b[94m#####################################\u001b[0m\n",
      "Kernel type\t: polynomial\n",
      "Cost\t\t: 0.3\n",
      "Accuracy = 58.3333% (70/120) (classification)\n",
      "\u001b[94m#####################################\u001b[0m\n",
      "Kernel type\t: polynomial\n",
      "Cost\t\t: 0.5\n",
      "Accuracy = 80% (96/120) (classification)\n",
      "\u001b[94m#####################################\u001b[0m\n",
      "Kernel type\t: polynomial\n",
      "Cost\t\t: 0.8\n",
      "Accuracy = 80.8333% (97/120) (classification)\n",
      "\u001b[94m#####################################\u001b[0m\n",
      "Kernel type\t: polynomial\n",
      "Cost\t\t: 1\n",
      "Accuracy = 80% (96/120) (classification)\n",
      "\u001b[94m#####################################\u001b[0m\n",
      "Kernel type\t: polynomial\n",
      "Cost\t\t: 1.5\n",
      "Accuracy = 78.3333% (94/120) (classification)\n",
      "\u001b[94m#####################################\u001b[0m\n",
      "Kernel type\t: polynomial\n",
      "Cost\t\t: 2\n",
      "Accuracy = 79.1667% (95/120) (classification)\n",
      "\u001b[94m#####################################\u001b[0m\n",
      "Kernel type\t: polynomial\n",
      "Cost\t\t: 10\n",
      "Accuracy = 75.8333% (91/120) (classification)\n",
      "\u001b[94m#####################################\u001b[0m\n",
      "Kernel type\t: polynomial\n",
      "Cost\t\t: 100\n",
      "Accuracy = 72.5% (87/120) (classification)\n",
      "\u001b[94m#####################################\u001b[0m\n",
      "Kernel type\t: polynomial\n",
      "Cost\t\t: 200\n",
      "Accuracy = 70.8333% (85/120) (classification)\n",
      "\u001b[94m#####################################\n",
      "\u001b[0m\n",
      "\u001b[91mFIXED KERNEL: RBF\u001b[0m\n",
      "\u001b[94m#####################################\u001b[0m\n",
      "Kernel type\t: RBF\n",
      "Cost\t\t: 0.01\n",
      "Accuracy = 50% (60/120) (classification)\n",
      "\u001b[94m#####################################\u001b[0m\n",
      "Kernel type\t: RBF\n",
      "Cost\t\t: 0.05\n",
      "Accuracy = 54.1667% (65/120) (classification)\n",
      "\u001b[94m#####################################\u001b[0m\n",
      "Kernel type\t: RBF\n",
      "Cost\t\t: 0.08\n",
      "Accuracy = 72.5% (87/120) (classification)\n",
      "\u001b[94m#####################################\u001b[0m\n",
      "Kernel type\t: RBF\n",
      "Cost\t\t: 0.1\n",
      "Accuracy = 78.3333% (94/120) (classification)\n",
      "\u001b[94m#####################################\u001b[0m\n",
      "Kernel type\t: RBF\n",
      "Cost\t\t: 0.3\n",
      "Accuracy = 83.3333% (100/120) (classification)\n",
      "\u001b[94m#####################################\u001b[0m\n",
      "Kernel type\t: RBF\n",
      "Cost\t\t: 0.5\n",
      "Accuracy = 83.3333% (100/120) (classification)\n",
      "\u001b[94m#####################################\u001b[0m\n",
      "Kernel type\t: RBF\n",
      "Cost\t\t: 0.8\n",
      "Accuracy = 83.3333% (100/120) (classification)\n",
      "\u001b[94m#####################################\u001b[0m\n",
      "Kernel type\t: RBF\n",
      "Cost\t\t: 1\n",
      "Accuracy = 82.5% (99/120) (classification)\n",
      "\u001b[94m#####################################\u001b[0m\n",
      "Kernel type\t: RBF\n",
      "Cost\t\t: 1.5\n",
      "Accuracy = 80.8333% (97/120) (classification)\n",
      "\u001b[94m#####################################\u001b[0m\n",
      "Kernel type\t: RBF\n",
      "Cost\t\t: 2\n",
      "Accuracy = 80.8333% (97/120) (classification)\n",
      "\u001b[94m#####################################\u001b[0m\n",
      "Kernel type\t: RBF\n",
      "Cost\t\t: 10\n",
      "Accuracy = 77.5% (93/120) (classification)\n",
      "\u001b[94m#####################################\u001b[0m\n",
      "Kernel type\t: RBF\n",
      "Cost\t\t: 100\n",
      "Accuracy = 74.1667% (89/120) (classification)\n",
      "\u001b[94m#####################################\u001b[0m\n",
      "Kernel type\t: RBF\n",
      "Cost\t\t: 200\n",
      "Accuracy = 74.1667% (89/120) (classification)\n",
      "\u001b[94m#####################################\n",
      "\u001b[0m\n",
      "\u001b[91mFIXED KERNEL: sigmoid\u001b[0m\n",
      "\u001b[94m#####################################\u001b[0m\n",
      "Kernel type\t: sigmoid\n",
      "Cost\t\t: 0.01\n",
      "Accuracy = 50% (60/120) (classification)\n",
      "\u001b[94m#####################################\u001b[0m\n",
      "Kernel type\t: sigmoid\n",
      "Cost\t\t: 0.05\n",
      "Accuracy = 60% (72/120) (classification)\n",
      "\u001b[94m#####################################\u001b[0m\n",
      "Kernel type\t: sigmoid\n",
      "Cost\t\t: 0.08\n",
      "Accuracy = 76.6667% (92/120) (classification)\n",
      "\u001b[94m#####################################\u001b[0m\n",
      "Kernel type\t: sigmoid\n",
      "Cost\t\t: 0.1\n",
      "Accuracy = 77.5% (93/120) (classification)\n",
      "\u001b[94m#####################################\u001b[0m\n",
      "Kernel type\t: sigmoid\n",
      "Cost\t\t: 0.3\n",
      "Accuracy = 81.6667% (98/120) (classification)\n",
      "\u001b[94m#####################################\u001b[0m\n",
      "Kernel type\t: sigmoid\n",
      "Cost\t\t: 0.5\n",
      "Accuracy = 84.1667% (101/120) (classification)\n",
      "\u001b[94m#####################################\u001b[0m\n",
      "Kernel type\t: sigmoid\n",
      "Cost\t\t: 0.8\n",
      "Accuracy = 84.1667% (101/120) (classification)\n",
      "\u001b[94m#####################################\u001b[0m\n",
      "Kernel type\t: sigmoid\n",
      "Cost\t\t: 1\n",
      "Accuracy = 84.1667% (101/120) (classification)\n",
      "\u001b[94m#####################################\u001b[0m\n",
      "Kernel type\t: sigmoid\n",
      "Cost\t\t: 1.5\n",
      "Accuracy = 83.3333% (100/120) (classification)\n",
      "\u001b[94m#####################################\u001b[0m\n",
      "Kernel type\t: sigmoid\n",
      "Cost\t\t: 2\n",
      "Accuracy = 84.1667% (101/120) (classification)\n",
      "\u001b[94m#####################################\u001b[0m\n",
      "Kernel type\t: sigmoid\n",
      "Cost\t\t: 10\n",
      "Accuracy = 82.5% (99/120) (classification)\n",
      "\u001b[94m#####################################\u001b[0m\n",
      "Kernel type\t: sigmoid\n",
      "Cost\t\t: 100\n",
      "Accuracy = 75.8333% (91/120) (classification)\n",
      "\u001b[94m#####################################\u001b[0m\n",
      "Kernel type\t: sigmoid\n",
      "Cost\t\t: 200\n",
      "Accuracy = 75% (90/120) (classification)\n",
      "\u001b[94m#####################################\n",
      "\u001b[0m\n"
     ]
    }
   ],
   "source": [
    "print_in_blue('\\n########### KERNEL REPORT ###########\\n')\n",
    "for kernelType in range(0,4):\n",
    "    print_in_red(f'FIXED KERNEL: {kernels[kernelType]}')\n",
    "    for cost in costs:\n",
    "        print_in_blue('#####################################')        \n",
    "        print(f'Kernel type\\t: {kernels[kernelType]}\\nCost\\t\\t: {cost}')\n",
    "        \n",
    "        model = svm_train(\n",
    "            train_label, \n",
    "            train_data, \n",
    "            f'-t {kernelType} -c {cost}')\n",
    "        svm_predict(test_label, test_data, model)\n",
    "\n",
    "    print_in_blue('#####################################\\n')"
   ]
  },
  {
   "cell_type": "markdown",
   "metadata": {
    "colab_type": "text",
    "id": "_3611Iz9PkPs"
   },
   "source": [
    "## Task 3 - 15 pts\n",
    "\n",
    "Please report how the number of support vectors changes as the value of $C$ increases (while all other parameters remain the same). Discuss whether your observations match the theory."
   ]
  },
  {
   "cell_type": "markdown",
   "metadata": {},
   "source": [
    "The higher C is, the higher we penalize our misclasified samples. In other words, we get closer to hard margin. C means how much we violate our margin, in hard margin we don't have any variable that violates the constraits. However, if C is low, we allow some violations, which increases the number of support vectors. \n",
    "As can be observed from our results while increasing C number of support vectors decreased from 113 to 49."
   ]
  },
  {
   "cell_type": "code",
   "execution_count": 8,
   "metadata": {
    "colab": {},
    "colab_type": "code",
    "id": "98hEdgTqPkPw"
   },
   "outputs": [
    {
     "name": "stdout",
     "output_type": "stream",
     "text": [
      "[110, 80, 74, 72, 62, 60, 59, 59, 54, 54, 53, 53, 53]\n"
     ]
    }
   ],
   "source": [
    "n_sv = []\n",
    "for cost in costs:\n",
    "    model = svm_train(\n",
    "            train_label, \n",
    "            train_data, \n",
    "            f'-t 0 -c {cost}')\n",
    "    n_sv.append(model.get_nr_sv())\n",
    "\n",
    "print(n_sv)"
   ]
  },
  {
   "cell_type": "markdown",
   "metadata": {
    "colab_type": "text",
    "id": "8UJO2-72PkQC"
   },
   "source": [
    "## Task 4 - 15 pts\n",
    "\n",
    "Please investigate the changes in the hyperplane when you remove one of the support vectors, vs., one data point that is not a support vector."
   ]
  },
  {
   "cell_type": "code",
   "execution_count": 9,
   "metadata": {},
   "outputs": [],
   "source": [
    "model = svm_train(\n",
    "            train_label, \n",
    "            train_data, \n",
    "            f'-t 0 -c 0.01')\n",
    "\n",
    "elem_to_delete = np.random.choice(model.get_sv_indices(), 1, replace=False)\n",
    "\n",
    "sv_deleted_data = np.delete(train_data, elem_to_delete, 0)\n",
    "sv_deleted_label = np.delete(train_label, elem_to_delete, 0)\n",
    "\n",
    "elem_to_delete = np.random.choice(list(set(range(1,train_num+1)) - set(model.get_sv_indices())), 1, replace=False)\n",
    "\n",
    "not_sv_deleted_data = np.delete(train_data, elem_to_delete, 0)\n",
    "not_sv_deleted_label = np.delete(train_label, elem_to_delete, 0)"
   ]
  },
  {
   "cell_type": "code",
   "execution_count": 10,
   "metadata": {},
   "outputs": [
    {
     "name": "stdout",
     "output_type": "stream",
     "text": [
      "Accuracy = 81.6667% (98/120) (classification)\n",
      "Accuracy = 81.6667% (98/120) (classification)\n",
      "Accuracy = 81.6667% (98/120) (classification)\n"
     ]
    }
   ],
   "source": [
    "original_model = svm_train(\n",
    "            train_label, \n",
    "            train_data, \n",
    "            f'-t 0 -c 0.01')\n",
    "svm_predict(test_label, test_data, original_model)\n",
    "original_coef = original_model.get_sv_coef()\n",
    "\n",
    "sv_deleted_model = svm_train(\n",
    "            sv_deleted_label, \n",
    "            sv_deleted_data, \n",
    "            f'-t 0 -c 0.01')\n",
    "svm_predict(test_label, test_data, sv_deleted_model)\n",
    "sv_deleted_coef = sv_deleted_model.get_sv_coef()\n",
    "\n",
    "not_sv_deleted_model = svm_train(\n",
    "            not_sv_deleted_label,\n",
    "            not_sv_deleted_data, \n",
    "            f'-t 0 -c 0.01')\n",
    "svm_predict(test_label, test_data, not_sv_deleted_model)\n",
    "not_sv_deleted_coef = not_sv_deleted_model.get_sv_coef()"
   ]
  },
  {
   "cell_type": "markdown",
   "metadata": {},
   "source": [
    "What we expect is, when we delete a support vector(SV), our model should change. We can understand from below that the number of SV's have changed when we deleted a SV. However, it didn't changed when we deleted a non SV data point."
   ]
  },
  {
   "cell_type": "code",
   "execution_count": 11,
   "metadata": {},
   "outputs": [
    {
     "name": "stdout",
     "output_type": "stream",
     "text": [
      "Number of support vectors\n",
      "Original model --> 110\n",
      "Support vector deleted model --> 108\n",
      "Non support vector deleted model --> 110\n"
     ]
    }
   ],
   "source": [
    "print(\"Number of support vectors\")\n",
    "print(f\"Original model --> {original_model.get_nr_sv()}\")\n",
    "print(f\"Support vector deleted model --> {sv_deleted_model.get_nr_sv()}\")\n",
    "print(f\"Non support vector deleted model --> {not_sv_deleted_model.get_nr_sv()}\")"
   ]
  },
  {
   "cell_type": "markdown",
   "metadata": {
    "colab_type": "text",
    "id": "ho_mfziAPkQX"
   },
   "source": [
    "### Bonus Task - 10 pts\n",
    "\n",
    "Use Python and [CVXOPT](http://cvxopt.org) QP solver to implement the hard margin SVM. "
   ]
  },
  {
   "cell_type": "code",
   "execution_count": null,
   "metadata": {},
   "outputs": [],
   "source": []
  }
 ],
 "metadata": {
  "colab": {
   "name": "cmpe462project2.ipynb",
   "provenance": []
  },
  "kernelspec": {
   "display_name": "Python 3",
   "language": "python",
   "name": "python3"
  },
  "language_info": {
   "codemirror_mode": {
    "name": "ipython",
    "version": 3
   },
   "file_extension": ".py",
   "mimetype": "text/x-python",
   "name": "python",
   "nbconvert_exporter": "python",
   "pygments_lexer": "ipython3",
   "version": "3.6.10"
  }
 },
 "nbformat": 4,
 "nbformat_minor": 1
}
