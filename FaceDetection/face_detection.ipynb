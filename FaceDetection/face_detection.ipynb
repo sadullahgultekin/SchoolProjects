{
 "cells": [
  {
   "cell_type": "code",
   "execution_count": 1,
   "metadata": {},
   "outputs": [],
   "source": [
    "import face_recognition\n",
    "from PIL import Image, ImageDraw\n",
    "import cv2\n",
    "import os"
   ]
  },
  {
   "cell_type": "code",
   "execution_count": 5,
   "metadata": {},
   "outputs": [],
   "source": [
    "files = [file for file in os.listdir(\"inputs\") if \"jpg\" in file or \"jpeg\" in file]\n",
    "\n",
    "out_path = \"output\"\n",
    "if not os.path.exists(out_path):\n",
    "    os.mkdir(out_path)"
   ]
  },
  {
   "cell_type": "code",
   "execution_count": 6,
   "metadata": {},
   "outputs": [],
   "source": [
    "for file in files:\n",
    "    image = face_recognition.load_image_file(os.path.join(\"inputs\", file))\n",
    "    face_locations = face_recognition.face_locations(image, model=\"cnn\")\n",
    "    face_landmarks_list = face_recognition.face_landmarks(image)\n",
    "\n",
    "    for face in face_locations:\n",
    "        image = cv2.rectangle(image,(face[1], face[2]),(face[3], face[0]),(0,255,0))\n",
    "\n",
    "    pil_image = Image.fromarray(image)\n",
    "    d = ImageDraw.Draw(pil_image)\n",
    "\n",
    "    for face_landmarks in face_landmarks_list:\n",
    "        for facial_feature in face_landmarks.keys():\n",
    "            d.line(face_landmarks[facial_feature], width=3)\n",
    "\n",
    "    pil_image.save(os.path.join(out_path, file))"
   ]
  },
  {
   "cell_type": "code",
   "execution_count": null,
   "metadata": {},
   "outputs": [],
   "source": []
  },
  {
   "cell_type": "code",
   "execution_count": null,
   "metadata": {},
   "outputs": [],
   "source": []
  },
  {
   "cell_type": "code",
   "execution_count": null,
   "metadata": {},
   "outputs": [],
   "source": []
  }
 ],
 "metadata": {
  "kernelspec": {
   "display_name": "Python 3.6.10 64-bit ('adversarial': conda)",
   "language": "python",
   "name": "python361064bitadversarialconda19609fb939ab453fb167de754a7edfca"
  },
  "language_info": {
   "codemirror_mode": {
    "name": "ipython",
    "version": 3
   },
   "file_extension": ".py",
   "mimetype": "text/x-python",
   "name": "python",
   "nbconvert_exporter": "python",
   "pygments_lexer": "ipython3",
   "version": "3.6.10"
  }
 },
 "nbformat": 4,
 "nbformat_minor": 4
}
