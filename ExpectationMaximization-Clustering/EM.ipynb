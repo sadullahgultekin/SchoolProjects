{
 "cells": [
  {
   "cell_type": "code",
   "execution_count": 1,
   "metadata": {},
   "outputs": [],
   "source": [
    "import numpy as np\n",
    "from matplotlib import pyplot as plt\n",
    "from sklearn.datasets import make_spd_matrix\n",
    "from scipy.special import softmax\n",
    "from scipy.stats import multivariate_normal"
   ]
  },
  {
   "cell_type": "code",
   "execution_count": 2,
   "metadata": {},
   "outputs": [
    {
     "data": {
      "text/plain": [
       "(300, 2)"
      ]
     },
     "execution_count": 2,
     "metadata": {},
     "output_type": "execute_result"
    }
   ],
   "source": [
    "data = np.load(\"dataset.npy\")\n",
    "data.shape"
   ]
  },
  {
   "cell_type": "code",
   "execution_count": 3,
   "metadata": {},
   "outputs": [
    {
     "data": {
      "image/png": "[encoded data removed]",
      "text/plain": [
       "<Figure size 432x288 with 1 Axes>"
      ]
     },
     "metadata": {
      "needs_background": "light"
     },
     "output_type": "display_data"
    }
   ],
   "source": [
    "plt.scatter(data[:,0], data[:,1])\n",
    "plt.show()"
   ]
  },
  {
   "cell_type": "code",
   "execution_count": 11,
   "metadata": {},
   "outputs": [],
   "source": [
    "class ExpectationMaximization():\n",
    "    \"\"\"\n",
    "    Implementation of expectation maximization algorithm.\n",
    "    \"\"\"\n",
    "    def __init__(self, n_gaussian):\n",
    "        \"\"\"\n",
    "        The algorithm is run for n gaussians\n",
    "        After calling fit function:\n",
    "            Model parameters are stored in the 'params' variable.\n",
    "            Loglikelihood value is stored in the 'log_likelihood' variable.\n",
    "            Gamma values for each datapoint is stored in the 'gamma values' variable\n",
    "        \"\"\"\n",
    "        self.n_gaussian = n_gaussian\n",
    "        self.params = None\n",
    "        self.gamma_values = None\n",
    "        self.log_likelihood = np.inf\n",
    "        self.all_params_trials = []\n",
    "        self.all_gamma_values_trials = []\n",
    "        self.all_likelihood_trials = []\n",
    "    \n",
    "    def __init_params(self, data):\n",
    "        \"\"\"\n",
    "        Initialize mu by selecting random points from the dataset.\n",
    "        Initialize sigma as a symmetric positive definite matrix.\n",
    "        Initialize pi values using softmax function so that the sum of the values equals to 1.\n",
    "        \"\"\"\n",
    "        self.params = {\n",
    "            \"mu\" : data[np.random.choice(data.shape[0], self.n_gaussian, replace=False), :],\n",
    "            \"sigma\" : [make_spd_matrix(2) for _ in range(self.n_gaussian)],\n",
    "            \"pi\" : softmax(np.random.random(self.n_gaussian))\n",
    "        }\n",
    "        \n",
    "    def __feed_data_to_gaussian(self, data):\n",
    "        \"\"\"\n",
    "        Feeds the given data to the multivariate normal distribution using the \n",
    "        parameters stored in the class variable 'params'.\n",
    "        \"\"\"\n",
    "        all_p = []\n",
    "        for i in range(self.n_gaussian):\n",
    "            all_p.append(self.params[\"pi\"][i] * multivariate_normal(self.params[\"mu\"][i], self.params[\"sigma\"][i], allow_singular=True).pdf(data))\n",
    "        return all_p\n",
    "\n",
    "    def __e_step(self, data):\n",
    "        \"\"\"\n",
    "        Executes the e-step of EM algorithm.\n",
    "        \"\"\"\n",
    "        all_p = self.__feed_data_to_gaussian(data)\n",
    "        p_all_sum = np.sum(all_p, axis=0)\n",
    "        self.gamma_values = [elem / p_all_sum for elem in all_p]\n",
    "    \n",
    "    def __m_step(self, data):\n",
    "        \"\"\"\n",
    "        Executes the m-step of EM algorithm.\n",
    "        \"\"\"\n",
    "        new_params = {\"mu\" : [], \"sigma\" : [], \"pi\" : []}\n",
    "        for gamma in self.gamma_values:\n",
    "            N_k = np.sum(gamma)\n",
    "            \n",
    "            mu_k = np.sum(gamma.reshape(-1,1) * data, axis=0) / N_k\n",
    "            sigma_k = ((data - mu_k).T @ np.multiply((data - mu_k), gamma.reshape(-1,1))) / N_k\n",
    "            pi_k = N_k / data.shape[0]\n",
    "\n",
    "            new_params[\"mu\"].append(mu_k)\n",
    "            new_params[\"sigma\"].append(sigma_k)\n",
    "            new_params[\"pi\"].append(pi_k)\n",
    "\n",
    "        self.params = new_params\n",
    "    \n",
    "    def __save_current_params(self):\n",
    "        \"\"\"\n",
    "        Called at the end of each trial. Saves the calculated paramters to a list.\n",
    "        After running the EM algorithm n times, the run with the highest likelihood\n",
    "        is selected between the saved values.\n",
    "        \"\"\"\n",
    "        self.all_params_trials.append(self.params)\n",
    "        self.all_gamma_values_trials.append(self.gamma_values)\n",
    "        self.all_likelihood_trials.append(self.log_likelihood)\n",
    "\n",
    "    def __check_stop_condition(self, data, thr):\n",
    "        \"\"\"\n",
    "        Stop condition check for the EM algorithm. If the change in the likelihood\n",
    "        is less than the threshold, the algorithm stops.\n",
    "        \"\"\"\n",
    "        likelihood = np.log(np.sum(self.__feed_data_to_gaussian(data)))\n",
    "        if np.abs(self.log_likelihood - likelihood) < thr:\n",
    "            self.log_likelihood = likelihood\n",
    "            self.__save_current_params()\n",
    "            return False\n",
    "        self.log_likelihood = likelihood\n",
    "        return True\n",
    "    \n",
    "    def __sellect_best_trial(self):\n",
    "        \"\"\"\n",
    "        Selects the trial with the highest likelihood value.\n",
    "        \"\"\"\n",
    "        best_trial_id = np.argmax(self.all_likelihood_trials)\n",
    "        self.gamma_values = self.all_gamma_values_trials[best_trial_id]\n",
    "        self.params = self.all_params_trials[best_trial_id]\n",
    "        self.prev_log_likelihood = self.all_likelihood_trials[best_trial_id]\n",
    "\n",
    "    def __visualize(self, data):\n",
    "        \"\"\"\n",
    "        Visualizes the resulting clusters.\n",
    "        \"\"\"\n",
    "        classes = np.argmax(self.gamma_values, axis=0)\n",
    "        for i in range(self.n_gaussian):\n",
    "            related_data = data[classes == i]\n",
    "            plt.scatter(related_data[:,0], related_data[:,1])\n",
    "            plt.scatter(self.params['mu'][i][0], self.params['mu'][i][1], c='r', marker='x')\n",
    "        plt.show()\n",
    "        \n",
    "    def __print_params(self):\n",
    "        \"\"\"\n",
    "        Print the parmeters of each cluster.\n",
    "        \"\"\"\n",
    "        for i in range(self.n_gaussian):\n",
    "            print(f\"Cluster {i+1}:\\nMean: {self.params['mu'][i]}\\nCovariance Matrix:\\n {self.params['sigma'][i]}\\n\")\n",
    "      \n",
    "    def fit(self, data, n_times=10, visualize=False, thr=1e-6):\n",
    "        \"\"\"\n",
    "        Runs the EM algorithm n times, using the given threshold value as a \n",
    "        stopping condition. Selects the run with highest likelihood value.\n",
    "        Visualizes the final clusters if the parameters is set.\n",
    "        \"\"\"\n",
    "        for i in range(n_times):\n",
    "            self.__init_params(data)\n",
    "            while self.__check_stop_condition(data, thr):\n",
    "                self.__e_step(data)\n",
    "                self.__m_step(data)\n",
    "        self.__sellect_best_trial()\n",
    "        if visualize:\n",
    "            self.__print_params()\n",
    "            self.__visualize(data)"
   ]
  },
  {
   "cell_type": "code",
   "execution_count": 27,
   "metadata": {
    "scrolled": false
   },
   "outputs": [
    {
     "name": "stdout",
     "output_type": "stream",
     "text": [
      "Cluster 1:\n",
      "Mean: [4.97914026 4.76060126]\n",
      "Covariance Matrix:\n",
      " [[16.98235317 13.69903494]\n",
      " [13.69903494 14.07558546]]\n",
      "\n",
      "Cluster 2:\n",
      "Mean: [4.33920351 4.1351312 ]\n",
      "Covariance Matrix:\n",
      " [[ 2.83898579 -0.26929923]\n",
      " [-0.26929923  0.12934702]]\n",
      "\n",
      "Cluster 3:\n",
      "Mean: [3.84808546 4.63935925]\n",
      "Covariance Matrix:\n",
      " [[ 0.41219626 -0.34243118]\n",
      " [-0.34243118  0.43484552]]\n",
      "\n"
     ]
    },
    {
     "data": {
      "image/png": "[encoded data removed]",
      "text/plain": [
       "<Figure size 432x288 with 1 Axes>"
      ]
     },
     "metadata": {
      "needs_background": "light"
     },
     "output_type": "display_data"
    }
   ],
   "source": [
    "em = ExpectationMaximization(n_gaussian = 3)\n",
    "em.fit(data, n_times=1, visualize=True, thr=1e-6)"
   ]
  },
  {
   "cell_type": "code",
   "execution_count": null,
   "metadata": {},
   "outputs": [],
   "source": []
  },
  {
   "cell_type": "code",
   "execution_count": null,
   "metadata": {},
   "outputs": [],
   "source": []
  },
  {
   "cell_type": "code",
   "execution_count": null,
   "metadata": {},
   "outputs": [],
   "source": []
  },
  {
   "cell_type": "code",
   "execution_count": null,
   "metadata": {},
   "outputs": [],
   "source": []
  },
  {
   "cell_type": "code",
   "execution_count": null,
   "metadata": {},
   "outputs": [],
   "source": []
  },
  {
   "cell_type": "code",
   "execution_count": null,
   "metadata": {},
   "outputs": [],
   "source": []
  },
  {
   "cell_type": "code",
   "execution_count": null,
   "metadata": {},
   "outputs": [],
   "source": []
  },
  {
   "cell_type": "code",
   "execution_count": null,
   "metadata": {},
   "outputs": [],
   "source": []
  },
  {
   "cell_type": "code",
   "execution_count": null,
   "metadata": {},
   "outputs": [],
   "source": []
  },
  {
   "cell_type": "code",
   "execution_count": null,
   "metadata": {},
   "outputs": [],
   "source": []
  },
  {
   "cell_type": "code",
   "execution_count": null,
   "metadata": {},
   "outputs": [],
   "source": []
  },
  {
   "cell_type": "code",
   "execution_count": null,
   "metadata": {},
   "outputs": [],
   "source": []
  }
 ],
 "metadata": {
  "kernelspec": {
   "display_name": "Python 3.6.10 64-bit ('adversarial': conda)",
   "language": "python",
   "name": "python361064bitadversarialconda19609fb939ab453fb167de754a7edfca"
  },
  "language_info": {
   "codemirror_mode": {
    "name": "ipython",
    "version": 3
   },
   "file_extension": ".py",
   "mimetype": "text/x-python",
   "name": "python",
   "nbconvert_exporter": "python",
   "pygments_lexer": "ipython3",
   "version": "3.6.10"
  }
 },
 "nbformat": 4,
 "nbformat_minor": 4
}
