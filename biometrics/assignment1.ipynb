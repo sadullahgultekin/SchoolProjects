{
 "cells": [
  {
   "cell_type": "code",
   "execution_count": 1,
   "metadata": {},
   "outputs": [],
   "source": [
    "from matplotlib import pyplot as plt\n",
    "import numpy as np\n",
    "import os\n",
    "import math\n",
    "import warnings\n",
    "warnings.filterwarnings('ignore')"
   ]
  },
  {
   "cell_type": "code",
   "execution_count": 58,
   "metadata": {},
   "outputs": [],
   "source": [
    "LABEL_PATH = \"datasets/data1/data1_Class_Labels.txt\"\n",
    "SM_PATH = \"datasets/data1/data1_SM.txt\""
   ]
  },
  {
   "cell_type": "code",
   "execution_count": 59,
   "metadata": {},
   "outputs": [],
   "source": [
    "with open(SM_PATH) as f:\n",
    "    similarity_data = f.read().splitlines()\n",
    "similarity_data = np.array([np.array(one_data.split(','), dtype=float) for one_data in similarity_data])"
   ]
  },
  {
   "cell_type": "code",
   "execution_count": 60,
   "metadata": {},
   "outputs": [],
   "source": [
    "with open(LABEL_PATH) as f:\n",
    "    label_data = f.read().splitlines()\n",
    "label_data = np.array(label_data, dtype=float)"
   ]
  },
  {
   "cell_type": "code",
   "execution_count": 61,
   "metadata": {},
   "outputs": [
    {
     "data": {
      "text/plain": [
       "((1000, 1000), (1000,))"
      ]
     },
     "execution_count": 61,
     "metadata": {},
     "output_type": "execute_result"
    }
   ],
   "source": [
    "similarity_data.shape, label_data.shape"
   ]
  },
  {
   "cell_type": "code",
   "execution_count": 62,
   "metadata": {},
   "outputs": [
    {
     "data": {
      "text/plain": [
       "(-3709.8, 29.855)"
      ]
     },
     "execution_count": 62,
     "metadata": {},
     "output_type": "execute_result"
    }
   ],
   "source": [
    "min_val, max_val = np.nanmin(similarity_data), np.nanmax(similarity_data)\n",
    "min_val, max_val"
   ]
  },
  {
   "cell_type": "code",
   "execution_count": 63,
   "metadata": {},
   "outputs": [],
   "source": [
    "x, y = np.where(similarity_data > 0)\n",
    "\n",
    "true_accept_mask = label_data[x] == label_data[y]\n",
    "zipped = np.array(list(zip(x,y)))\n",
    "true_accept = zipped[true_accept_mask,:]\n",
    "false_accept = zipped[~true_accept_mask,:]\n",
    "\n",
    "x, y = np.where(similarity_data <= 0)\n",
    "\n",
    "false_reject_mask = label_data[x] == label_data[y]\n",
    "zipped = np.array(list(zip(x,y)))\n",
    "if zipped.shape[0]:\n",
    "    false_reject = zipped[false_reject_mask,:]\n",
    "    true_reject = zipped[~false_reject_mask,:]\n",
    "else:\n",
    "    false_reject = zipped\n",
    "    true_reject = zipped"
   ]
  },
  {
   "cell_type": "code",
   "execution_count": 64,
   "metadata": {},
   "outputs": [
    {
     "data": {
      "text/plain": [
       "((2526, 2), (70, 2), (6474, 2), (989930, 2))"
      ]
     },
     "execution_count": 64,
     "metadata": {},
     "output_type": "execute_result"
    }
   ],
   "source": [
    "true_accept.shape, false_accept.shape, false_reject.shape, true_reject.shape"
   ]
  },
  {
   "cell_type": "code",
   "execution_count": 65,
   "metadata": {},
   "outputs": [],
   "source": [
    "all_accept = similarity_data[list(zip(*np.concatenate((true_accept, false_accept),axis=0)))]\n",
    "all_reject = similarity_data[list(zip(*np.concatenate((false_reject, true_reject),axis=0)))]"
   ]
  },
  {
   "cell_type": "code",
   "execution_count": 66,
   "metadata": {},
   "outputs": [
    {
     "data": {
      "text/plain": [
       "((2596,), (996404,))"
      ]
     },
     "execution_count": 66,
     "metadata": {},
     "output_type": "execute_result"
    }
   ],
   "source": [
    "all_accept.shape, all_reject.shape"
   ]
  },
  {
   "cell_type": "code",
   "execution_count": 67,
   "metadata": {},
   "outputs": [],
   "source": [
    "t_vals = []\n",
    "far_vals = []\n",
    "frr_vals = []\n",
    "space = np.linspace(min_val, max_val, num=10000)\n",
    "for t in space:\n",
    "    FAR_t = all_reject[all_reject > t]\n",
    "    far_num = FAR_t.shape[0]\n",
    "    \n",
    "    FRR_t = all_accept[all_accept < t]\n",
    "    frr_num = FRR_t.shape[0]\n",
    "    \n",
    "    t_vals.append(t)\n",
    "    far_vals.append(far_num)\n",
    "    frr_vals.append(frr_num)\n",
    "\n",
    "t_vals = np.array(t_vals)\n",
    "far_vals = np.array(far_vals)\n",
    "frr_vals = np.array(frr_vals)"
   ]
  },
  {
   "cell_type": "code",
   "execution_count": 68,
   "metadata": {},
   "outputs": [],
   "source": [
    "eer_point = np.argmin(np.abs(frr_vals - far_vals))\n",
    "eer_t = t_vals[eer_point]\n",
    "far = far_vals[eer_point]\n",
    "frr = frr_vals[eer_point]"
   ]
  },
  {
   "cell_type": "code",
   "execution_count": 69,
   "metadata": {},
   "outputs": [
    {
     "data": {
      "text/plain": [
       "(9919, -0.06523202320204291, 19, 0)"
      ]
     },
     "execution_count": 69,
     "metadata": {},
     "output_type": "execute_result"
    }
   ],
   "source": [
    "eer_point, eer_t, far, frr"
   ]
  },
  {
   "cell_type": "code",
   "execution_count": 70,
   "metadata": {},
   "outputs": [
    {
     "data": {
      "text/plain": [
       "(array([996006, 996006, 996004, 996002, 995999, 995998, 995996, 995994,\n",
       "        995990, 995990]),\n",
       " array([0, 0, 0, 0, 0, 0, 0, 0, 0, 0]))"
      ]
     },
     "execution_count": 70,
     "metadata": {},
     "output_type": "execute_result"
    }
   ],
   "source": [
    "far_vals[1850:1860], frr_vals[1850:1860]"
   ]
  },
  {
   "cell_type": "code",
   "execution_count": 73,
   "metadata": {},
   "outputs": [
    {
     "data": {
      "image/png": "[encoded data removed]",
      "text/plain": [
       "<Figure size 432x288 with 1 Axes>"
      ]
     },
     "metadata": {
      "needs_background": "light"
     },
     "output_type": "display_data"
    }
   ],
   "source": [
    "plt.plot(far_vals, \"r-\", frr_vals, \"b-\")\n",
    "plt.show()"
   ]
  },
  {
   "cell_type": "code",
   "execution_count": null,
   "metadata": {},
   "outputs": [],
   "source": []
  },
  {
   "cell_type": "code",
   "execution_count": null,
   "metadata": {},
   "outputs": [],
   "source": []
  }
 ],
 "metadata": {
  "kernelspec": {
   "display_name": "Python 3",
   "language": "python",
   "name": "python3"
  },
  "language_info": {
   "codemirror_mode": {
    "name": "ipython",
    "version": 3
   },
   "file_extension": ".py",
   "mimetype": "text/x-python",
   "name": "python",
   "nbconvert_exporter": "python",
   "pygments_lexer": "ipython3",
   "version": "3.7.6"
  }
 },
 "nbformat": 4,
 "nbformat_minor": 4
}
