{
 "cells": [
  {
   "cell_type": "code",
   "execution_count": 1,
   "metadata": {},
   "outputs": [],
   "source": [
    "from matplotlib import pyplot as plt\n",
    "import numpy as np\n",
    "import os\n",
    "import math\n",
    "from tqdm import tqdm\n",
    "import warnings\n",
    "warnings.filterwarnings('ignore')"
   ]
  },
  {
   "cell_type": "code",
   "execution_count": 74,
   "metadata": {},
   "outputs": [],
   "source": [
    "LABEL_PATH = \"datasets/data1/data1_Class_Labels.txt\"\n",
    "SM_PATH = \"datasets/data1/data1_SM.txt\""
   ]
  },
  {
   "cell_type": "code",
   "execution_count": 75,
   "metadata": {},
   "outputs": [],
   "source": [
    "with open(SM_PATH) as f:\n",
    "    similarity_data = f.read().splitlines()\n",
    "similarity_data = np.array([np.array(one_data.split(','), dtype=float) for one_data in similarity_data])"
   ]
  },
  {
   "cell_type": "code",
   "execution_count": 76,
   "metadata": {},
   "outputs": [],
   "source": [
    "with open(LABEL_PATH) as f:\n",
    "    label_data = f.read().splitlines()\n",
    "label_data = np.array(label_data, dtype=float)"
   ]
  },
  {
   "cell_type": "code",
   "execution_count": 77,
   "metadata": {},
   "outputs": [
    {
     "data": {
      "text/plain": [
       "((1000, 1000), (1000,))"
      ]
     },
     "execution_count": 77,
     "metadata": {},
     "output_type": "execute_result"
    }
   ],
   "source": [
    "similarity_data.shape, label_data.shape"
   ]
  },
  {
   "cell_type": "code",
   "execution_count": 78,
   "metadata": {},
   "outputs": [
    {
     "data": {
      "text/plain": [
       "(-3709.8, 29.855)"
      ]
     },
     "execution_count": 78,
     "metadata": {},
     "output_type": "execute_result"
    }
   ],
   "source": [
    "min_val, max_val = np.nanmin(similarity_data), np.nanmax(similarity_data)\n",
    "min_val, max_val"
   ]
  },
  {
   "cell_type": "code",
   "execution_count": 96,
   "metadata": {},
   "outputs": [
    {
     "name": "stderr",
     "output_type": "stream",
     "text": [
      "100%|██████████| 5000/5000 [03:08<00:00, 26.57it/s]\n"
     ]
    }
   ],
   "source": [
    "error_rate = []\n",
    "space = np.linspace(min_val, max_val, num=5000)\n",
    "\n",
    "for t in tqdm(space):\n",
    "    x, y = np.where(similarity_data > t)\n",
    "    accept_mask = label_data[x] == label_data[y]\n",
    "    stacked = np.stack([x,y])\n",
    "    true_accept = stacked[:,accept_mask]\n",
    "    false_accept = stacked[:,~accept_mask]\n",
    "\n",
    "    x, y = np.where(similarity_data <= t)\n",
    "    reject_mask = label_data[x] != label_data[y]\n",
    "    stacked = np.stack([x,y])\n",
    "    true_reject = stacked[:,reject_mask]\n",
    "    false_reject = stacked[:,~reject_mask]\n",
    "\n",
    "    error_rate.append((t, true_accept.shape[1], false_accept.shape[1], true_reject.shape[1], false_reject.shape[1]))\n",
    "    \n",
    "error_rate = np.array(error_rate)"
   ]
  },
  {
   "cell_type": "code",
   "execution_count": 97,
   "metadata": {},
   "outputs": [],
   "source": [
    "eer_vals = []\n",
    "for elem in error_rate:\n",
    "    t, ta, fa, tr, fr = elem[0], elem[1], elem[2], elem[3], elem[4]\n",
    "    FRR = fr / (fr + tr)\n",
    "    FAR = fa / (fa + ta)\n",
    "    eer_vals.append((t, FRR, FAR))"
   ]
  },
  {
   "cell_type": "code",
   "execution_count": 98,
   "metadata": {},
   "outputs": [],
   "source": [
    "t_, frr_, far_  = zip(*eer_vals)"
   ]
  },
  {
   "cell_type": "code",
   "execution_count": 99,
   "metadata": {},
   "outputs": [
    {
     "data": {
      "image/png": "[encoded data removed]",
      "text/plain": [
       "<Figure size 432x288 with 1 Axes>"
      ]
     },
     "metadata": {
      "needs_background": "light"
     },
     "output_type": "display_data"
    }
   ],
   "source": [
    "plt.plot(frr_, 'r-', far_, 'b-')\n",
    "plt.legend([\"frr\", \"far\"])\n",
    "plt.show()"
   ]
  },
  {
   "cell_type": "code",
   "execution_count": 124,
   "metadata": {},
   "outputs": [
    {
     "data": {
      "image/png": "[encoded data removed]",
      "text/plain": [
       "<Figure size 432x288 with 1 Axes>"
      ]
     },
     "metadata": {
      "needs_background": "light"
     },
     "output_type": "display_data"
    }
   ],
   "source": [
    "plt.plot(frr_, 1 - np.array(far_))\n",
    "plt.show()"
   ]
  },
  {
   "cell_type": "code",
   "execution_count": null,
   "metadata": {},
   "outputs": [],
   "source": []
  },
  {
   "cell_type": "code",
   "execution_count": null,
   "metadata": {},
   "outputs": [],
   "source": []
  },
  {
   "cell_type": "code",
   "execution_count": null,
   "metadata": {},
   "outputs": [],
   "source": []
  },
  {
   "cell_type": "code",
   "execution_count": null,
   "metadata": {},
   "outputs": [],
   "source": []
  }
 ],
 "metadata": {
  "kernelspec": {
   "display_name": "Python 3",
   "language": "python",
   "name": "python3"
  },
  "language_info": {
   "codemirror_mode": {
    "name": "ipython",
    "version": 3
   },
   "file_extension": ".py",
   "mimetype": "text/x-python",
   "name": "python",
   "nbconvert_exporter": "python",
   "pygments_lexer": "ipython3",
   "version": "3.7.6"
  }
 },
 "nbformat": 4,
 "nbformat_minor": 4
}
